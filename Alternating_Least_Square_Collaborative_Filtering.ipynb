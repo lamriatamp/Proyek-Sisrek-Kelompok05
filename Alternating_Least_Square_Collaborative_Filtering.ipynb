{
  "nbformat": 4,
  "nbformat_minor": 0,
  "metadata": {
    "colab": {
      "provenance": []
    },
    "kernelspec": {
      "name": "python3",
      "display_name": "Python 3"
    },
    "language_info": {
      "name": "python"
    }
  },
  "cells": [
    {
      "cell_type": "markdown",
      "source": [
        "# Model Pembanding Collaborative fIltering - Alternating Least Square\n"
      ],
      "metadata": {
        "id": "svXaEexaRE5p"
      }
    },
    {
      "cell_type": "markdown",
      "source": [
        "### Import Libraries and Load Data"
      ],
      "metadata": {
        "id": "UEyXL75TRPaR"
      }
    },
    {
      "cell_type": "code",
      "source": [
        "import pandas as pd\n",
        "import numpy as np\n",
        "from sklearn.preprocessing import LabelEncoder\n",
        "import matplotlib.pyplot as plt\n",
        "from pyspark.sql import SparkSession\n",
        "from pyspark.ml.recommendation import ALS\n",
        "from pyspark.ml.evaluation import RegressionEvaluator\n",
        "from pyspark.sql.functions import col, mean, stddev, count, avg\n",
        "from google.colab import drive\n",
        "from scipy.sparse import csr_matrix"
      ],
      "metadata": {
        "id": "rTKeZYHinwfU"
      },
      "execution_count": null,
      "outputs": []
    },
    {
      "cell_type": "markdown",
      "source": [
        "* **pandas, numpy**: Digunakan untuk manipulasi data dan operasi numerik.\n",
        "* **sklearn.preprocessing.LabelEncoder**: Untuk melakukan encoding pada variabel kategorikal.\n",
        "* **matplotlib.pyplot**: Untuk visualisasi hasil evaluasi model.\n",
        "* **pyspark.sql**: Menggunakan PySpark untuk memproses data besar secara terdistribusi.\n",
        "* **scipy.sparse.csr_matrix**: Digunakan untuk menyimpan matriks dalam format yang efisien."
      ],
      "metadata": {
        "id": "F-jLB1QUvW03"
      }
    },
    {
      "cell_type": "code",
      "source": [
        "drive.mount('/content/gdrive')\n",
        "\n",
        "# Membaca Data CSV ke dalam DataFrame Pandas\n",
        "file_path = '/content/gdrive/MyDrive/Dataset/Tempat-Wisata-Toba-Preprocessing.csv'\n",
        "df = pd.read_csv(file_path)"
      ],
      "metadata": {
        "colab": {
          "base_uri": "https://localhost:8080/"
        },
        "id": "dQHCij9joL12",
        "outputId": "3139f281-4e88-43ee-9547-28c565d0eb98"
      },
      "execution_count": null,
      "outputs": [
        {
          "output_type": "stream",
          "name": "stdout",
          "text": [
            "Drive already mounted at /content/gdrive; to attempt to forcibly remount, call drive.mount(\"/content/gdrive\", force_remount=True).\n"
          ]
        }
      ]
    },
    {
      "cell_type": "code",
      "source": [
        "# Menangani Missing Values dalam Data\n",
        "def handle_missing_data(df):\n",
        "    missing = df.isnull().sum().sort_values(ascending=False)\n",
        "    if missing.empty:\n",
        "        print(\"Tidak ada nilai yang hilang.\")\n",
        "    else:\n",
        "        print(f\"Nilai yang hilang di setiap kolom:\\n{missing}\")\n",
        "\n",
        "handle_missing_data(df)\n",
        "\n",
        "# Menghapus Kolom yang Tidak Diperlukan\n",
        "df = df.drop(columns=[\"Unnamed: 0.1\", \"Unnamed: 0\"])\n",
        "\n",
        "# Mengisi Missing Values pada Kolom 'Reviews' dengan String Kosong\n",
        "df['Reviews'] = df['Reviews'].fillna('')\n",
        "\n",
        "# Melakukan Encoding pada Kolom Kategorikal\n",
        "place_encoder = LabelEncoder()\n",
        "df['PlaceID'] = place_encoder.fit_transform(df['Nama_tempat_wisata'])\n",
        "\n",
        "category_encoder = LabelEncoder()\n",
        "df['Category'] = category_encoder.fit_transform(df['Category'])\n",
        "\n",
        "reviewer_encoder = LabelEncoder()\n",
        "df['ReviewerId'] = reviewer_encoder.fit_transform(df['ReviewerId'])\n",
        "\n",
        "# Memeriksa Data yang Telah Diproses\n",
        "df.head()"
      ],
      "metadata": {
        "colab": {
          "base_uri": "https://localhost:8080/",
          "height": 770
        },
        "id": "K7KZ6IeaogtK",
        "outputId": "1f1a8804-7746-400e-9317-fed117b8574d"
      },
      "execution_count": null,
      "outputs": [
        {
          "output_type": "stream",
          "name": "stdout",
          "text": [
            "Nilai yang hilang di setiap kolom:\n",
            "Reviews               21060\n",
            "ReviewerId                1\n",
            "Rating                    1\n",
            "Unnamed: 0.1              0\n",
            "Unnamed: 0                0\n",
            "address                   0\n",
            "PlaceID                   0\n",
            "Nama_tempat_wisata        0\n",
            "Category                  0\n",
            "dtype: int64\n"
          ]
        },
        {
          "output_type": "execute_result",
          "data": {
            "text/plain": [
              "                                             address  PlaceID  \\\n",
              "0  Jl. Sibola Hotang, Sibola Hotangsas, Kec. Bali...       51   \n",
              "1  Jl. Sibola Hotang, Sibola Hotangsas, Kec. Bali...       51   \n",
              "2  Jl. Sibola Hotang, Sibola Hotangsas, Kec. Bali...       51   \n",
              "3  Jl. Sibola Hotang, Sibola Hotangsas, Kec. Bali...       51   \n",
              "4  Jl. Sibola Hotang, Sibola Hotangsas, Kec. Bali...       51   \n",
              "\n",
              "          Nama_tempat_wisata  Category  ReviewerId  Rating  \\\n",
              "0  PASIR PUTIH LUMBAN BULBUL         1       10261     5.0   \n",
              "1  PASIR PUTIH LUMBAN BULBUL         1        9698     5.0   \n",
              "2  PASIR PUTIH LUMBAN BULBUL         1        6433     5.0   \n",
              "3  PASIR PUTIH LUMBAN BULBUL         1       10643     5.0   \n",
              "4  PASIR PUTIH LUMBAN BULBUL         1        5078     5.0   \n",
              "\n",
              "                         Reviews  \n",
              "0                                 \n",
              "1                          bagus  \n",
              "2                                 \n",
              "3             sangat menyenagkan  \n",
              "4  bebas foto dimana aja cuma 2k  "
            ],
            "text/html": [
              "\n",
              "  <div id=\"df-297c5d5a-0073-4149-974f-5469fe953f2e\" class=\"colab-df-container\">\n",
              "    <div>\n",
              "<style scoped>\n",
              "    .dataframe tbody tr th:only-of-type {\n",
              "        vertical-align: middle;\n",
              "    }\n",
              "\n",
              "    .dataframe tbody tr th {\n",
              "        vertical-align: top;\n",
              "    }\n",
              "\n",
              "    .dataframe thead th {\n",
              "        text-align: right;\n",
              "    }\n",
              "</style>\n",
              "<table border=\"1\" class=\"dataframe\">\n",
              "  <thead>\n",
              "    <tr style=\"text-align: right;\">\n",
              "      <th></th>\n",
              "      <th>address</th>\n",
              "      <th>PlaceID</th>\n",
              "      <th>Nama_tempat_wisata</th>\n",
              "      <th>Category</th>\n",
              "      <th>ReviewerId</th>\n",
              "      <th>Rating</th>\n",
              "      <th>Reviews</th>\n",
              "    </tr>\n",
              "  </thead>\n",
              "  <tbody>\n",
              "    <tr>\n",
              "      <th>0</th>\n",
              "      <td>Jl. Sibola Hotang, Sibola Hotangsas, Kec. Bali...</td>\n",
              "      <td>51</td>\n",
              "      <td>PASIR PUTIH LUMBAN BULBUL</td>\n",
              "      <td>1</td>\n",
              "      <td>10261</td>\n",
              "      <td>5.0</td>\n",
              "      <td></td>\n",
              "    </tr>\n",
              "    <tr>\n",
              "      <th>1</th>\n",
              "      <td>Jl. Sibola Hotang, Sibola Hotangsas, Kec. Bali...</td>\n",
              "      <td>51</td>\n",
              "      <td>PASIR PUTIH LUMBAN BULBUL</td>\n",
              "      <td>1</td>\n",
              "      <td>9698</td>\n",
              "      <td>5.0</td>\n",
              "      <td>bagus</td>\n",
              "    </tr>\n",
              "    <tr>\n",
              "      <th>2</th>\n",
              "      <td>Jl. Sibola Hotang, Sibola Hotangsas, Kec. Bali...</td>\n",
              "      <td>51</td>\n",
              "      <td>PASIR PUTIH LUMBAN BULBUL</td>\n",
              "      <td>1</td>\n",
              "      <td>6433</td>\n",
              "      <td>5.0</td>\n",
              "      <td></td>\n",
              "    </tr>\n",
              "    <tr>\n",
              "      <th>3</th>\n",
              "      <td>Jl. Sibola Hotang, Sibola Hotangsas, Kec. Bali...</td>\n",
              "      <td>51</td>\n",
              "      <td>PASIR PUTIH LUMBAN BULBUL</td>\n",
              "      <td>1</td>\n",
              "      <td>10643</td>\n",
              "      <td>5.0</td>\n",
              "      <td>sangat menyenagkan</td>\n",
              "    </tr>\n",
              "    <tr>\n",
              "      <th>4</th>\n",
              "      <td>Jl. Sibola Hotang, Sibola Hotangsas, Kec. Bali...</td>\n",
              "      <td>51</td>\n",
              "      <td>PASIR PUTIH LUMBAN BULBUL</td>\n",
              "      <td>1</td>\n",
              "      <td>5078</td>\n",
              "      <td>5.0</td>\n",
              "      <td>bebas foto dimana aja cuma 2k</td>\n",
              "    </tr>\n",
              "  </tbody>\n",
              "</table>\n",
              "</div>\n",
              "    <div class=\"colab-df-buttons\">\n",
              "\n",
              "  <div class=\"colab-df-container\">\n",
              "    <button class=\"colab-df-convert\" onclick=\"convertToInteractive('df-297c5d5a-0073-4149-974f-5469fe953f2e')\"\n",
              "            title=\"Convert this dataframe to an interactive table.\"\n",
              "            style=\"display:none;\">\n",
              "\n",
              "  <svg xmlns=\"http://www.w3.org/2000/svg\" height=\"24px\" viewBox=\"0 -960 960 960\">\n",
              "    <path d=\"M120-120v-720h720v720H120Zm60-500h600v-160H180v160Zm220 220h160v-160H400v160Zm0 220h160v-160H400v160ZM180-400h160v-160H180v160Zm440 0h160v-160H620v160ZM180-180h160v-160H180v160Zm440 0h160v-160H620v160Z\"/>\n",
              "  </svg>\n",
              "    </button>\n",
              "\n",
              "  <style>\n",
              "    .colab-df-container {\n",
              "      display:flex;\n",
              "      gap: 12px;\n",
              "    }\n",
              "\n",
              "    .colab-df-convert {\n",
              "      background-color: #E8F0FE;\n",
              "      border: none;\n",
              "      border-radius: 50%;\n",
              "      cursor: pointer;\n",
              "      display: none;\n",
              "      fill: #1967D2;\n",
              "      height: 32px;\n",
              "      padding: 0 0 0 0;\n",
              "      width: 32px;\n",
              "    }\n",
              "\n",
              "    .colab-df-convert:hover {\n",
              "      background-color: #E2EBFA;\n",
              "      box-shadow: 0px 1px 2px rgba(60, 64, 67, 0.3), 0px 1px 3px 1px rgba(60, 64, 67, 0.15);\n",
              "      fill: #174EA6;\n",
              "    }\n",
              "\n",
              "    .colab-df-buttons div {\n",
              "      margin-bottom: 4px;\n",
              "    }\n",
              "\n",
              "    [theme=dark] .colab-df-convert {\n",
              "      background-color: #3B4455;\n",
              "      fill: #D2E3FC;\n",
              "    }\n",
              "\n",
              "    [theme=dark] .colab-df-convert:hover {\n",
              "      background-color: #434B5C;\n",
              "      box-shadow: 0px 1px 3px 1px rgba(0, 0, 0, 0.15);\n",
              "      filter: drop-shadow(0px 1px 2px rgba(0, 0, 0, 0.3));\n",
              "      fill: #FFFFFF;\n",
              "    }\n",
              "  </style>\n",
              "\n",
              "    <script>\n",
              "      const buttonEl =\n",
              "        document.querySelector('#df-297c5d5a-0073-4149-974f-5469fe953f2e button.colab-df-convert');\n",
              "      buttonEl.style.display =\n",
              "        google.colab.kernel.accessAllowed ? 'block' : 'none';\n",
              "\n",
              "      async function convertToInteractive(key) {\n",
              "        const element = document.querySelector('#df-297c5d5a-0073-4149-974f-5469fe953f2e');\n",
              "        const dataTable =\n",
              "          await google.colab.kernel.invokeFunction('convertToInteractive',\n",
              "                                                    [key], {});\n",
              "        if (!dataTable) return;\n",
              "\n",
              "        const docLinkHtml = 'Like what you see? Visit the ' +\n",
              "          '<a target=\"_blank\" href=https://colab.research.google.com/notebooks/data_table.ipynb>data table notebook</a>'\n",
              "          + ' to learn more about interactive tables.';\n",
              "        element.innerHTML = '';\n",
              "        dataTable['output_type'] = 'display_data';\n",
              "        await google.colab.output.renderOutput(dataTable, element);\n",
              "        const docLink = document.createElement('div');\n",
              "        docLink.innerHTML = docLinkHtml;\n",
              "        element.appendChild(docLink);\n",
              "      }\n",
              "    </script>\n",
              "  </div>\n",
              "\n",
              "\n",
              "<div id=\"df-0fc512a1-a325-40ba-9976-1e31eeede333\">\n",
              "  <button class=\"colab-df-quickchart\" onclick=\"quickchart('df-0fc512a1-a325-40ba-9976-1e31eeede333')\"\n",
              "            title=\"Suggest charts\"\n",
              "            style=\"display:none;\">\n",
              "\n",
              "<svg xmlns=\"http://www.w3.org/2000/svg\" height=\"24px\"viewBox=\"0 0 24 24\"\n",
              "     width=\"24px\">\n",
              "    <g>\n",
              "        <path d=\"M19 3H5c-1.1 0-2 .9-2 2v14c0 1.1.9 2 2 2h14c1.1 0 2-.9 2-2V5c0-1.1-.9-2-2-2zM9 17H7v-7h2v7zm4 0h-2V7h2v10zm4 0h-2v-4h2v4z\"/>\n",
              "    </g>\n",
              "</svg>\n",
              "  </button>\n",
              "\n",
              "<style>\n",
              "  .colab-df-quickchart {\n",
              "      --bg-color: #E8F0FE;\n",
              "      --fill-color: #1967D2;\n",
              "      --hover-bg-color: #E2EBFA;\n",
              "      --hover-fill-color: #174EA6;\n",
              "      --disabled-fill-color: #AAA;\n",
              "      --disabled-bg-color: #DDD;\n",
              "  }\n",
              "\n",
              "  [theme=dark] .colab-df-quickchart {\n",
              "      --bg-color: #3B4455;\n",
              "      --fill-color: #D2E3FC;\n",
              "      --hover-bg-color: #434B5C;\n",
              "      --hover-fill-color: #FFFFFF;\n",
              "      --disabled-bg-color: #3B4455;\n",
              "      --disabled-fill-color: #666;\n",
              "  }\n",
              "\n",
              "  .colab-df-quickchart {\n",
              "    background-color: var(--bg-color);\n",
              "    border: none;\n",
              "    border-radius: 50%;\n",
              "    cursor: pointer;\n",
              "    display: none;\n",
              "    fill: var(--fill-color);\n",
              "    height: 32px;\n",
              "    padding: 0;\n",
              "    width: 32px;\n",
              "  }\n",
              "\n",
              "  .colab-df-quickchart:hover {\n",
              "    background-color: var(--hover-bg-color);\n",
              "    box-shadow: 0 1px 2px rgba(60, 64, 67, 0.3), 0 1px 3px 1px rgba(60, 64, 67, 0.15);\n",
              "    fill: var(--button-hover-fill-color);\n",
              "  }\n",
              "\n",
              "  .colab-df-quickchart-complete:disabled,\n",
              "  .colab-df-quickchart-complete:disabled:hover {\n",
              "    background-color: var(--disabled-bg-color);\n",
              "    fill: var(--disabled-fill-color);\n",
              "    box-shadow: none;\n",
              "  }\n",
              "\n",
              "  .colab-df-spinner {\n",
              "    border: 2px solid var(--fill-color);\n",
              "    border-color: transparent;\n",
              "    border-bottom-color: var(--fill-color);\n",
              "    animation:\n",
              "      spin 1s steps(1) infinite;\n",
              "  }\n",
              "\n",
              "  @keyframes spin {\n",
              "    0% {\n",
              "      border-color: transparent;\n",
              "      border-bottom-color: var(--fill-color);\n",
              "      border-left-color: var(--fill-color);\n",
              "    }\n",
              "    20% {\n",
              "      border-color: transparent;\n",
              "      border-left-color: var(--fill-color);\n",
              "      border-top-color: var(--fill-color);\n",
              "    }\n",
              "    30% {\n",
              "      border-color: transparent;\n",
              "      border-left-color: var(--fill-color);\n",
              "      border-top-color: var(--fill-color);\n",
              "      border-right-color: var(--fill-color);\n",
              "    }\n",
              "    40% {\n",
              "      border-color: transparent;\n",
              "      border-right-color: var(--fill-color);\n",
              "      border-top-color: var(--fill-color);\n",
              "    }\n",
              "    60% {\n",
              "      border-color: transparent;\n",
              "      border-right-color: var(--fill-color);\n",
              "    }\n",
              "    80% {\n",
              "      border-color: transparent;\n",
              "      border-right-color: var(--fill-color);\n",
              "      border-bottom-color: var(--fill-color);\n",
              "    }\n",
              "    90% {\n",
              "      border-color: transparent;\n",
              "      border-bottom-color: var(--fill-color);\n",
              "    }\n",
              "  }\n",
              "</style>\n",
              "\n",
              "  <script>\n",
              "    async function quickchart(key) {\n",
              "      const quickchartButtonEl =\n",
              "        document.querySelector('#' + key + ' button');\n",
              "      quickchartButtonEl.disabled = true;  // To prevent multiple clicks.\n",
              "      quickchartButtonEl.classList.add('colab-df-spinner');\n",
              "      try {\n",
              "        const charts = await google.colab.kernel.invokeFunction(\n",
              "            'suggestCharts', [key], {});\n",
              "      } catch (error) {\n",
              "        console.error('Error during call to suggestCharts:', error);\n",
              "      }\n",
              "      quickchartButtonEl.classList.remove('colab-df-spinner');\n",
              "      quickchartButtonEl.classList.add('colab-df-quickchart-complete');\n",
              "    }\n",
              "    (() => {\n",
              "      let quickchartButtonEl =\n",
              "        document.querySelector('#df-0fc512a1-a325-40ba-9976-1e31eeede333 button');\n",
              "      quickchartButtonEl.style.display =\n",
              "        google.colab.kernel.accessAllowed ? 'block' : 'none';\n",
              "    })();\n",
              "  </script>\n",
              "</div>\n",
              "\n",
              "    </div>\n",
              "  </div>\n"
            ],
            "application/vnd.google.colaboratory.intrinsic+json": {
              "type": "dataframe",
              "variable_name": "df",
              "summary": "{\n  \"name\": \"df\",\n  \"rows\": 43226,\n  \"fields\": [\n    {\n      \"column\": \"address\",\n      \"properties\": {\n        \"dtype\": \"category\",\n        \"num_unique_values\": 100,\n        \"samples\": [\n          \"WG69+M82, Tongging, Kec. Merek, Kabupaten Karo, Sumatera Utara 22173, Indonesia\",\n          \"83M7+RJ4, Napitupulu Bagasan, Kec. Balige, Toba, Sumatera Utara, Indonesia\",\n          \"Taman Eden, Ps. Lumban Julu, Kec. Lumban Julu, Toba, Sumatera Utara 22386, Indonesia\"\n        ],\n        \"semantic_type\": \"\",\n        \"description\": \"\"\n      }\n    },\n    {\n      \"column\": \"PlaceID\",\n      \"properties\": {\n        \"dtype\": \"number\",\n        \"std\": 28,\n        \"min\": 0,\n        \"max\": 101,\n        \"num_unique_values\": 102,\n        \"samples\": [\n          54,\n          58,\n          66\n        ],\n        \"semantic_type\": \"\",\n        \"description\": \"\"\n      }\n    },\n    {\n      \"column\": \"Nama_tempat_wisata\",\n      \"properties\": {\n        \"dtype\": \"category\",\n        \"num_unique_values\": 102,\n        \"samples\": [\n          \"Panatapan Tara Bunga\",\n          \"Pantai Indah Situngkir (PIS)\",\n          \"Pasar Tomok\"\n        ],\n        \"semantic_type\": \"\",\n        \"description\": \"\"\n      }\n    },\n    {\n      \"column\": \"Category\",\n      \"properties\": {\n        \"dtype\": \"number\",\n        \"std\": 1,\n        \"min\": 0,\n        \"max\": 7,\n        \"num_unique_values\": 8,\n        \"samples\": [\n          5,\n          6,\n          1\n        ],\n        \"semantic_type\": \"\",\n        \"description\": \"\"\n      }\n    },\n    {\n      \"column\": \"ReviewerId\",\n      \"properties\": {\n        \"dtype\": \"number\",\n        \"std\": 4349,\n        \"min\": 0,\n        \"max\": 15011,\n        \"num_unique_values\": 15012,\n        \"samples\": [\n          10119,\n          3306,\n          6821\n        ],\n        \"semantic_type\": \"\",\n        \"description\": \"\"\n      }\n    },\n    {\n      \"column\": \"Rating\",\n      \"properties\": {\n        \"dtype\": \"number\",\n        \"std\": 0.9277599389462311,\n        \"min\": 1.0,\n        \"max\": 5.0,\n        \"num_unique_values\": 5,\n        \"samples\": [\n          2.0,\n          1.0,\n          3.0\n        ],\n        \"semantic_type\": \"\",\n        \"description\": \"\"\n      }\n    },\n    {\n      \"column\": \"Reviews\",\n      \"properties\": {\n        \"dtype\": \"category\",\n        \"num_unique_values\": 17993,\n        \"samples\": [\n          \"tempat wisata yang sangat recommended bareng keluarga pasangan maupun healing sendiri hehe kapan lagi bisa duduk di bangku yang pernah di dudukin sama pak jokowi uhuyy buat yang isi pikirannya penat harus ke sini gengss\",\n          \"sukabgt tpi klo jm 122 kesini panasnya pol ga ada angin samsek\",\n          \"bagak do bah mantap\"\n        ],\n        \"semantic_type\": \"\",\n        \"description\": \"\"\n      }\n    }\n  ]\n}"
            }
          },
          "metadata": {},
          "execution_count": 14
        }
      ]
    },
    {
      "cell_type": "markdown",
      "source": [
        "\n",
        "\n",
        "*   Fungsi handle_missing_data digunakan untuk mengecek apakah ada nilai yang hilang pada dataset.\n",
        "*   Menghapus kolom yang tidak diperlukan.\n",
        "* Mengisi nilai kosong pada kolom \"Reviews\" dengan string kosong agar tidak ada nilai yang hilang.\n",
        "* Melakukan encoding pada kolom yang mengandung data kategorikal seperti Nama_tempat_wisata, Category, dan ReviewerId menjadi format numerik agar dapat digunakan oleh model ALS.\n",
        "\n",
        "\n"
      ],
      "metadata": {
        "id": "wZASl_6dvxBr"
      }
    },
    {
      "cell_type": "markdown",
      "source": [
        "### Create Spark Session"
      ],
      "metadata": {
        "id": "SNtcnGbWoMH0"
      }
    },
    {
      "cell_type": "code",
      "source": [
        "# Membuat SparkSession\n",
        "spark = SparkSession.builder.appName(\"ALS_Recommendation\").getOrCreate()\n",
        "\n",
        "# Mengonversi DataFrame Pandas ke Spark DataFrame\n",
        "spark_df = spark.createDataFrame(df)\n",
        "\n",
        "# Menangani Missing Data dengan Menghapus Baris yang Mengandung Nilai NaN\n",
        "spark_df = spark_df.dropna(subset=[\"ReviewerId\", \"PlaceID\", \"Rating\"])\n",
        "\n",
        "# Melakukan Normalisasi pada Kolom 'Rating'\n",
        "rating_stats = spark_df.select(mean(\"Rating\").alias(\"mean\"), stddev(\"Rating\").alias(\"std\")).first()\n",
        "mean_rating, std_rating = rating_stats[\"mean\"], rating_stats[\"std\"]\n",
        "\n",
        "spark_df = spark_df.withColumn(\"NormalizedRating\", (col(\"Rating\") - mean_rating) / std_rating)"
      ],
      "metadata": {
        "id": "fH1Nnjwtor82"
      },
      "execution_count": null,
      "outputs": []
    },
    {
      "cell_type": "markdown",
      "source": [
        "* SparkSession dibuat untuk memungkinkan interaksi dengan PySpark.\n",
        "* Data yang sudah diproses diubah menjadi Spark DataFrame.\n",
        "* Menghapus baris dengan nilai kosong di kolom yang relevan untuk model (seperti ReviewerId, PlaceID, dan Rating).\n",
        "* Normalisasi dilakukan pada kolom Rating untuk mengurangi bias skala rating yang berbeda-beda antar pengguna atau tempat wisata."
      ],
      "metadata": {
        "id": "H-imDhUVwLQe"
      }
    },
    {
      "cell_type": "markdown",
      "source": [
        "### Data Splitting"
      ],
      "metadata": {
        "id": "vdMQ2ASzpVRh"
      }
    },
    {
      "cell_type": "code",
      "source": [
        "# Membagi Data Menjadi Training, Validation, dan Test Set\n",
        "train_data, val_data, test_data = spark_df.randomSplit([0.75, 0.15, 0.15], seed=42)\n",
        "\n",
        "# Mencetak Jumlah Data Setiap Split\n",
        "print(f\"Training Set: {train_data.count()} rows\")\n",
        "print(f\"Validation Set: {val_data.count()} rows\")\n",
        "print(f\"Test Set: {test_data.count()} rows\")"
      ],
      "metadata": {
        "colab": {
          "base_uri": "https://localhost:8080/"
        },
        "id": "N0noS361pU1R",
        "outputId": "f69078c3-a6b9-414c-8320-2dcec24a0bb8"
      },
      "execution_count": null,
      "outputs": [
        {
          "output_type": "stream",
          "name": "stdout",
          "text": [
            "Training Set: 31058 rows\n",
            "Validation Set: 6065 rows\n",
            "Test Set: 6102 rows\n"
          ]
        }
      ]
    },
    {
      "cell_type": "markdown",
      "source": [
        "Data dibagi menjadi tiga bagian: data latih (75%), validasi (15%), dan data uji (15%)."
      ],
      "metadata": {
        "id": "915AC41swZzZ"
      }
    },
    {
      "cell_type": "markdown",
      "source": [
        "### Build ALS Model and Train Data"
      ],
      "metadata": {
        "id": "kODV-l4Spccb"
      }
    },
    {
      "cell_type": "code",
      "source": [
        "# Membangun Model ALS\n",
        "als_model = ALS(\n",
        "    userCol=\"ReviewerId\",\n",
        "    itemCol=\"PlaceID\",\n",
        "    ratingCol=\"NormalizedRating\",\n",
        "    rank=10,\n",
        "    maxIter=15,\n",
        "    regParam=0.2,\n",
        "    nonnegative=True,\n",
        "    implicitPrefs=False,\n",
        "    coldStartStrategy=\"drop\"\n",
        ")\n",
        "\n",
        "# Melatih Model dengan Data Latih\n",
        "als_trained_model = als_model.fit(train_data)"
      ],
      "metadata": {
        "id": "jiR84shKpcll"
      },
      "execution_count": null,
      "outputs": []
    },
    {
      "cell_type": "markdown",
      "source": [
        "Membuat model ALS untuk rekomendasi. Model ini mempelajari preferensi pengguna berdasarkan interaksi dengan item (tempat wisata) menggunakan algoritma Alternating Least Squares."
      ],
      "metadata": {
        "id": "XlkV9fStwdXb"
      }
    },
    {
      "cell_type": "markdown",
      "source": [
        "### Evaluate the Model (RMSE and MAE on Validation)"
      ],
      "metadata": {
        "id": "gFCqmu6EprGh"
      }
    },
    {
      "cell_type": "code",
      "source": [
        "# Evaluasi Model pada Validation Set dengan RMSE\n",
        "evaluator = RegressionEvaluator(metricName=\"rmse\", labelCol=\"NormalizedRating\", predictionCol=\"prediction\")\n",
        "validation_predictions = als_trained_model.transform(val_data).dropna(subset=[\"prediction\"])\n",
        "val_rmse = evaluator.evaluate(validation_predictions)\n",
        "print(f\"Validation RMSE: {val_rmse}\")\n",
        "\n",
        "# Evaluasi dengan MAE\n",
        "mae_evaluator = RegressionEvaluator(metricName=\"mae\", labelCol=\"NormalizedRating\", predictionCol=\"prediction\")\n",
        "val_mae = mae_evaluator.evaluate(validation_predictions)\n",
        "print(f\"Validation MAE: {val_mae}\")"
      ],
      "metadata": {
        "colab": {
          "base_uri": "https://localhost:8080/"
        },
        "id": "UhsBOWHHprYo",
        "outputId": "a4cf592a-efb8-40f4-a245-c9ea4fab8b18"
      },
      "execution_count": null,
      "outputs": [
        {
          "output_type": "stream",
          "name": "stdout",
          "text": [
            "Validation RMSE: 0.997558396951096\n",
            "Validation MAE: 0.7030104679389011\n"
          ]
        }
      ]
    },
    {
      "cell_type": "markdown",
      "source": [
        "Model dievaluasi menggunakan Root Mean Squared Error (RMSE) dan Mean Absolute Error (MAE) untuk mengukur kinerja model dalam memprediksi rating."
      ],
      "metadata": {
        "id": "rznEpSCgwhOU"
      }
    },
    {
      "cell_type": "markdown",
      "source": [
        "### Evaluate the Model (RMSE and MAE on Test Set)"
      ],
      "metadata": {
        "id": "7Ol6T5lfp6BY"
      }
    },
    {
      "cell_type": "code",
      "source": [
        "# Evaluasi Model pada Test Set\n",
        "test_predictions = als_trained_model.transform(test_data).dropna(subset=[\"prediction\"])\n",
        "test_rmse = evaluator.evaluate(test_predictions)\n",
        "test_mae = mae_evaluator.evaluate(test_predictions)\n",
        "\n",
        "print(f\"Test RMSE: {test_rmse}\")\n",
        "print(f\"Test MAE: {test_mae}\")"
      ],
      "metadata": {
        "colab": {
          "base_uri": "https://localhost:8080/"
        },
        "id": "KtU30APip52U",
        "outputId": "76926971-9c46-4474-9a22-7a9b23c93bf3"
      },
      "execution_count": null,
      "outputs": [
        {
          "output_type": "stream",
          "name": "stdout",
          "text": [
            "Test RMSE: 0.960887673886217\n",
            "Test MAE: 0.6853495079378059\n"
          ]
        }
      ]
    },
    {
      "cell_type": "markdown",
      "source": [
        "### Visualisasi RMSE and MAE"
      ],
      "metadata": {
        "id": "DZ6cILWqqsQc"
      }
    },
    {
      "cell_type": "code",
      "source": [
        "# Visualisasi Hasil Evaluasi\n",
        "metrics = pd.DataFrame({\n",
        "    \"Metric\": [\"RMSE\", \"MAE\"],\n",
        "    \"Value\": [test_rmse, test_mae]\n",
        "})\n",
        "\n",
        "plt.figure(figsize=(8, 6))\n",
        "bars = plt.bar(metrics[\"Metric\"], metrics[\"Value\"], color=['blue', 'orange'])\n",
        "plt.title(\"Evaluation Metrics: RMSE and MAE\")\n",
        "plt.ylabel(\"Error Value\")\n",
        "plt.ylim(0, max(metrics[\"Value\"]) * 1.2)\n",
        "\n",
        "# Menambahkan Nilai di Atas Setiap Bar\n",
        "for bar in bars:\n",
        "    yval = bar.get_height()\n",
        "    plt.text(bar.get_x() + bar.get_width()/2.0, yval + 0.02, round(yval, 2), ha='center', va='bottom')\n",
        "\n",
        "plt.grid(axis=\"y\", linestyle=\"--\", alpha=0.7)\n",
        "plt.show()\n",
        "\n",
        "# Menampilkan Rekomendasi untuk Setiap Pengguna\n",
        "K = 10\n",
        "user_recs = als_trained_model.recommendForAllUsers(K)\n",
        "\n",
        "# Mengambil Nama Tempat dari Data\n",
        "place_name_df = spark_df.select(\"PlaceID\", \"Nama_tempat_wisata\").distinct()\n",
        "\n",
        "# Menggabungkan Rekomendasi dengan Nama Tempat\n",
        "user_recs_with_names = user_recs.withColumn(\"PlaceID\", explode(col(\"recommendations.PlaceID\"))) \\\n",
        "    .join(place_name_df, on=\"PlaceID\", how=\"left\")\n",
        "\n",
        "# Menampilkan Hasil Rekomendasi dengan Nama Tempat\n",
        "user_recs_with_names.show(10, truncate=False)\n",
        "\n",
        "# Menghitung Precision, Recall, dan MAP untuk Evaluasi Rekomendasi\n",
        "from pyspark.sql.functions import collect_list\n",
        "\n",
        "# Menyusun Ground Truth\n",
        "actual_places = spark_df.groupBy(\"ReviewerId\").agg(collect_list(\"PlaceID\").alias(\"ActualPlaces\"))\n",
        "\n",
        "# Menggabungkan Rekomendasi dengan Ground Truth\n",
        "recommendation_df = user_recs_with_names.withColumn(\"RecommendedPlaces\", col(\"recommendations.PlaceID\")) \\\n",
        "    .join(actual_places, on=\"ReviewerId\")\n",
        "\n"
      ],
      "metadata": {
        "colab": {
          "base_uri": "https://localhost:8080/",
          "height": 805
        },
        "id": "bcbGJR5mqsYM",
        "outputId": "b9fbfc39-d802-4a33-9040-a7da8bbc557b"
      },
      "execution_count": null,
      "outputs": [
        {
          "output_type": "display_data",
          "data": {
            "text/plain": [
              "<Figure size 800x600 with 1 Axes>"
            ],
            "image/png": "[encoded data removed]"
          },
          "metadata": {}
        },
        {
          "output_type": "stream",
          "name": "stdout",
          "text": [
            "+-------+----------+--------------------------------------------------------------------------------------------------------------------------------------------------------------------------------+------------------------------------+\n",
            "|PlaceID|ReviewerId|recommendations                                                                                                                                                                 |Nama_tempat_wisata                  |\n",
            "+-------+----------+--------------------------------------------------------------------------------------------------------------------------------------------------------------------------------+------------------------------------+\n",
            "|22     |1         |[{31, 0.28178}, {22, 0.27387094}, {44, 0.2462116}, {24, 0.24440843}, {15, 0.24251826}, {97, 0.2384093}, {37, 0.23214492}, {32, 0.23195261}, {18, 0.22586334}, {60, 0.22394812}] |Bukit Indah Simarjarunjung          |\n",
            "|32     |1         |[{31, 0.28178}, {22, 0.27387094}, {44, 0.2462116}, {24, 0.24440843}, {15, 0.24251826}, {97, 0.2384093}, {37, 0.23214492}, {32, 0.23195261}, {18, 0.22586334}, {60, 0.22394812}] |Dolok Pesona Panoguan Solu          |\n",
            "|31     |1         |[{31, 0.28178}, {22, 0.27387094}, {44, 0.2462116}, {24, 0.24440843}, {15, 0.24251826}, {97, 0.2384093}, {37, 0.23214492}, {32, 0.23195261}, {18, 0.22586334}, {60, 0.22394812}] |Desa Wisata Sigapiton               |\n",
            "|31     |3         |[{31, 0.3589338}, {69, 0.34727076}, {20, 0.32473913}, {37, 0.31156722}, {29, 0.31111565}, {45, 0.30899674}, {21, 0.3037295}, {38, 0.3032528}, {6, 0.30211803}, {77, 0.30079493}]|Desa Wisata Sigapiton               |\n",
            "|44     |1         |[{31, 0.28178}, {22, 0.27387094}, {44, 0.2462116}, {24, 0.24440843}, {15, 0.24251826}, {97, 0.2384093}, {37, 0.23214492}, {32, 0.23195261}, {18, 0.22586334}, {60, 0.22394812}] |Makam Missonaris Pdt.DR.IL.Nommensen|\n",
            "|37     |1         |[{31, 0.28178}, {22, 0.27387094}, {44, 0.2462116}, {24, 0.24440843}, {15, 0.24251826}, {97, 0.2384093}, {37, 0.23214492}, {32, 0.23195261}, {18, 0.22586334}, {60, 0.22394812}] |Huta Siallagan                      |\n",
            "|18     |1         |[{31, 0.28178}, {22, 0.27387094}, {44, 0.2462116}, {24, 0.24440843}, {15, 0.24251826}, {97, 0.2384093}, {37, 0.23214492}, {32, 0.23195261}, {18, 0.22586334}, {60, 0.22394812}] |Bukit Doa                           |\n",
            "|15     |1         |[{31, 0.28178}, {22, 0.27387094}, {44, 0.2462116}, {24, 0.24440843}, {15, 0.24251826}, {97, 0.2384093}, {37, 0.23214492}, {32, 0.23195261}, {18, 0.22586334}, {60, 0.22394812}] |Batu Maroppa                        |\n",
            "|97     |1         |[{31, 0.28178}, {22, 0.27387094}, {44, 0.2462116}, {24, 0.24440843}, {15, 0.24251826}, {97, 0.2384093}, {37, 0.23214492}, {32, 0.23195261}, {18, 0.22586334}, {60, 0.22394812}] |Tugu Toga Aritonang                 |\n",
            "|60     |1         |[{31, 0.28178}, {22, 0.27387094}, {44, 0.2462116}, {24, 0.24440843}, {15, 0.24251826}, {97, 0.2384093}, {37, 0.23214492}, {32, 0.23195261}, {18, 0.22586334}, {60, 0.22394812}] |Pantai Meat                         |\n",
            "+-------+----------+--------------------------------------------------------------------------------------------------------------------------------------------------------------------------------+------------------------------------+\n",
            "only showing top 10 rows\n",
            "\n"
          ]
        }
      ]
    },
    {
      "cell_type": "markdown",
      "source": [
        "### Evaluate MAP, Recall, Precision"
      ],
      "metadata": {
        "id": "tgUXgdo3sJS1"
      }
    },
    {
      "cell_type": "code",
      "source": [
        "# Fungsi Evaluasi Precision, Recall, dan MAP\n",
        "def precision_at_k(actual, predicted, k):\n",
        "    actual_set = set(actual)\n",
        "    predicted_set = set(predicted[:k])\n",
        "    return len(actual_set & predicted_set) / k\n",
        "\n",
        "def recall_at_k(actual, predicted, k):\n",
        "    actual_set = set(actual)\n",
        "    predicted_set = set(predicted[:k])\n",
        "    return len(actual_set & predicted_set) / len(actual_set) if len(actual_set) > 0 else 0\n",
        "\n",
        "def map_at_k(actual, predicted, k):\n",
        "    score, hits = 0.0, 0\n",
        "    for i, p in enumerate(predicted[:k]):\n",
        "        if p in actual:\n",
        "            hits += 1\n",
        "            score += hits / (i + 1.0)\n",
        "    return score / min(len(actual), k) if actual else 0.0\n",
        "\n",
        "# Menghitung Precision, Recall, dan MAP untuk Setiap Pengguna\n",
        "evaluation_results = recommendation_df.rdd.map(lambda row: (\n",
        "    row[\"ReviewerId\"],\n",
        "    precision_at_k(row[\"ActualPlaces\"], row[\"RecommendedPlaces\"], K),\n",
        "    recall_at_k(row[\"ActualPlaces\"], row[\"RecommendedPlaces\"], K),\n",
        "    map_at_k(row[\"ActualPlaces\"], row[\"RecommendedPlaces\"], K)\n",
        "))\n",
        "\n",
        "# Mengubah Hasil ke dalam DataFrame\n",
        "evaluation_results_df = evaluation_results.toDF([\"ReviewerId\", \"Precision\", \"Recall\", \"MAP\"])\n",
        "\n",
        "# Menghitung Rata-rata Metrics\n",
        "avg_precision = evaluation_results_df.select(\"Precision\").rdd.map(lambda x: x[0]).mean()\n",
        "avg_recall = evaluation_results_df.select(\"Recall\").rdd.map(lambda x: x[0]).mean()\n",
        "avg_map = evaluation_results_df.select(\"MAP\").rdd.map(lambda x: x[0]).mean()\n",
        "\n",
        "print(f\"Average Precision at {K}: {avg_precision}\")\n",
        "print(f\"Average Recall at {K}: {avg_recall}\")\n",
        "print(f\"Mean Average Precision at {K}: {avg_map}\")\n"
      ],
      "metadata": {
        "colab": {
          "base_uri": "https://localhost:8080/"
        },
        "id": "zGYXIPkDsPt7",
        "outputId": "67fedea3-e68c-4585-80b3-ce316a7e9564"
      },
      "execution_count": null,
      "outputs": [
        {
          "output_type": "stream",
          "name": "stdout",
          "text": [
            "Average Precision at 10: 0.05232688429072933\n",
            "Average Recall at 10: 0.260346090917755\n",
            "Mean Average Precision at 10: 0.0800676454095777\n"
          ]
        }
      ]
    },
    {
      "cell_type": "markdown",
      "source": [
        "### Visualisasi MAP, Recall, Precision"
      ],
      "metadata": {
        "id": "DZRVE08erTzS"
      }
    },
    {
      "cell_type": "code",
      "source": [
        "# Visualisasi Hasil Evaluasi\n",
        "metrics_data = pd.DataFrame({\n",
        "    \"Metric\": [\"Precision\", \"Recall\", \"MAP\"],\n",
        "    \"Value\": [avg_precision, avg_recall, avg_map]\n",
        "})\n",
        "\n",
        "plt.figure(figsize=(10, 6))\n",
        "bars = plt.bar(metrics_data[\"Metric\"], metrics_data[\"Value\"], color=['green', 'blue', 'purple'])\n",
        "plt.title(\"Evaluation Metrics: Precision, Recall, and MAP\")\n",
        "plt.ylabel(\"Metric Value\")\n",
        "plt.ylim(0, 1)\n",
        "\n",
        "# Menambahkan Nilai di Atas Setiap Bar\n",
        "for bar in bars:\n",
        "    yval = bar.get_height()\n",
        "    plt.text(bar.get_x() + bar.get_width()/2.0, yval + 0.02, f\"{yval:.2f}\", ha='center', va='bottom')\n",
        "\n",
        "plt.grid(axis=\"y\", linestyle=\"--\", alpha=0.7)\n",
        "plt.show()\n",
        "\n",
        "\n",
        "(\"Evaluation Metrics (Precision, Recall, MAP):\")\n",
        "print(metrics_data)\n",
        "\n",
        "# Menampilkan Top 5 Rekomendasi untuk Setiap Pengguna\n",
        "K = 5  # Ubah ke 5 untuk menampilkan top 5 rekomendasi\n",
        "user_recs_top_5 = als_trained_model.recommendForAllUsers(K)\n",
        "\n",
        "# Mengambil Nama Tempat dari Data\n",
        "place_name_df = spark_df.select(\"PlaceID\", \"Nama_tempat_wisata\").distinct()\n",
        "\n",
        "# Menggabungkan Rekomendasi dengan Nama Tempat\n",
        "user_recs_with_names = user_recs_top_5.withColumn(\"PlaceID\", explode(col(\"recommendations.PlaceID\"))) \\\n",
        "    .join(place_name_df, on=\"PlaceID\", how=\"left\")\n",
        "\n",
        "# Menampilkan Hasil Rekomendasi dengan Nama Tempat\n",
        "user_recs_with_names.show(5, truncate=False)"
      ],
      "metadata": {
        "colab": {
          "base_uri": "https://localhost:8080/",
          "height": 699
        },
        "id": "a5d8gF6jsYJ9",
        "outputId": "602ddeb2-fd26-4dee-f432-9f7b9cfb0ee8"
      },
      "execution_count": null,
      "outputs": [
        {
          "output_type": "display_data",
          "data": {
            "text/plain": [
              "<Figure size 1000x600 with 1 Axes>"
            ],
            "image/png": "[encoded data removed]"
          },
          "metadata": {}
        },
        {
          "output_type": "stream",
          "name": "stdout",
          "text": [
            "      Metric     Value\n",
            "0  Precision  0.052327\n",
            "1     Recall  0.260346\n",
            "2        MAP  0.080068\n",
            "+-------+----------+-----------------------------------------------------------------------------------------+------------------------------------+\n",
            "|PlaceID|ReviewerId|recommendations                                                                          |Nama_tempat_wisata                  |\n",
            "+-------+----------+-----------------------------------------------------------------------------------------+------------------------------------+\n",
            "|22     |1         |[{31, 0.28178}, {22, 0.27387094}, {44, 0.2462116}, {24, 0.24440843}, {15, 0.24251826}]   |Bukit Indah Simarjarunjung          |\n",
            "|31     |1         |[{31, 0.28178}, {22, 0.27387094}, {44, 0.2462116}, {24, 0.24440843}, {15, 0.24251826}]   |Desa Wisata Sigapiton               |\n",
            "|31     |3         |[{31, 0.3589338}, {69, 0.34727076}, {20, 0.32473913}, {37, 0.31156722}, {29, 0.31111565}]|Desa Wisata Sigapiton               |\n",
            "|44     |1         |[{31, 0.28178}, {22, 0.27387094}, {44, 0.2462116}, {24, 0.24440843}, {15, 0.24251826}]   |Makam Missonaris Pdt.DR.IL.Nommensen|\n",
            "|15     |1         |[{31, 0.28178}, {22, 0.27387094}, {44, 0.2462116}, {24, 0.24440843}, {15, 0.24251826}]   |Batu Maroppa                        |\n",
            "+-------+----------+-----------------------------------------------------------------------------------------+------------------------------------+\n",
            "only showing top 5 rows\n",
            "\n"
          ]
        }
      ]
    },
    {
      "cell_type": "markdown",
      "source": [
        "Precision, Recall, dan Mean Average Precision (MAP) dihitung untuk setiap pengguna untuk mengevaluasi seberapa baik rekomendasi yang diberikan oleh model."
      ],
      "metadata": {
        "id": "puP05X2rsdm-"
      }
    },
    {
      "cell_type": "markdown",
      "source": [
        "Grafik yang diberikan menunjukkan evaluasi dari model rekomendasi berdasarkan dua kelompok metrik:\n",
        "\n",
        "### **Grafik 1: RMSE dan MAE**\n",
        "- **RMSE (Root Mean Square Error):** Nilainya adalah **0.96**, ditampilkan dengan batang biru. Nilai ini mengukur seberapa besar perbedaan antara prediksi model dan nilai aktual, di mana nilai yang lebih rendah menunjukkan performa prediksi yang lebih baik.\n",
        "- **MAE (Mean Absolute Error):** Nilainya adalah **0.69**, ditampilkan dengan batang oranye. MAE mengukur rata-rata kesalahan absolut tanpa mempertimbangkan arah kesalahan, dan seperti RMSE, nilai yang lebih kecil menunjukkan performa yang lebih baik.\n",
        "\n",
        "> **Kesimpulan:** Model menunjukkan kesalahan prediksi yang moderat berdasarkan nilai RMSE dan MAE. RMSE yang lebih tinggi dari MAE menunjukkan bahwa ada beberapa kesalahan besar yang memengaruhi hasil RMSE secara signifikan.\n",
        "\n",
        "---\n",
        "\n",
        "### **Grafik 2: Precision, Recall, dan MAP**\n",
        "- **Precision:** Nilainya adalah **0.05**, ditampilkan dengan batang hijau. Ini menunjukkan persentase item yang direkomendasikan yang benar-benar relevan. Nilai precision yang rendah menunjukkan bahwa model cenderung merekomendasikan banyak item yang tidak relevan.\n",
        "- **Recall:** Nilainya adalah **0.26**, ditampilkan dengan batang biru. Recall menunjukkan sejauh mana model dapat merekomendasikan semua item relevan. Nilai recall ini moderat, menunjukkan model menangkap sebagian kecil dari item relevan.\n",
        "- **MAP (Mean Average Precision):** Nilainya adalah **0.08**, ditampilkan dengan batang ungu. MAP mengukur akurasi keseluruhan model pada berbagai level peringkat rekomendasi. Nilai rendah menunjukkan bahwa model memiliki kesulitan menghasilkan rekomendasi yang konsisten relevan di peringkat atas.\n",
        "\n",
        "> **Kesimpulan:** Model memiliki performa yang kurang baik dalam merekomendasikan item relevan, terlihat dari precision dan MAP yang rendah. Namun, recall yang lebih tinggi menunjukkan bahwa model berhasil menangkap beberapa item relevan meskipun dengan tingkat akurasi rendah.\n",
        "\n",
        "---\n",
        "\n",
        "### **Analisis Keseluruhan:**\n",
        "Model ini menunjukkan performa yang moderat untuk kesalahan prediksi (RMSE dan MAE), tetapi memiliki tantangan dalam metrik relevansi seperti precision dan MAP. Ini menunjukkan model mungkin lebih cocok untuk menangkap pola umum daripada memberikan rekomendasi yang sangat akurat atau relevan. Perbaikan dapat difokuskan pada meningkatkan precision dan MAP, misalnya dengan algoritma rekomendasi yang lebih personalisasi atau mempertimbangkan relevansi yang lebih tinggi."
      ],
      "metadata": {
        "id": "KY4KPuvcyM02"
      }
    },
    {
      "cell_type": "code",
      "source": [
        "\n",
        "# ### Kode yang Dimodifikasi:\n",
        "\n",
        "# # Import Library yang Diperlukan\n",
        "# import pandas as pd\n",
        "# import numpy as np\n",
        "# from sklearn.preprocessing import LabelEncoder\n",
        "# import matplotlib.pyplot as plt\n",
        "# from pyspark.sql import SparkSession\n",
        "# from pyspark.ml.recommendation import ALS\n",
        "# from pyspark.ml.evaluation import RegressionEvaluator\n",
        "# from pyspark.sql.functions import col, mean, stddev, count, avg\n",
        "# from google.colab import drive\n",
        "# from scipy.sparse import csr_matrix\n",
        "\n",
        "\n",
        "# # Mount Google Drive untuk Akses Data\n",
        "# drive.mount('/content/gdrive')\n",
        "\n",
        "# # Membaca Data CSV ke dalam DataFrame Pandas\n",
        "# file_path = '/content/gdrive/MyDrive/Dataset/Tempat-Wisata-Toba-Preprocessing.csv'\n",
        "# df = pd.read_csv(file_path)\n",
        "\n",
        "# # Menangani Missing Values dalam Data\n",
        "# def handle_missing_data(df):\n",
        "#     missing = df.isnull().sum().sort_values(ascending=False)\n",
        "#     if missing.empty:\n",
        "#         print(\"Tidak ada nilai yang hilang.\")\n",
        "#     else:\n",
        "#         print(f\"Nilai yang hilang di setiap kolom:\\n{missing}\")\n",
        "\n",
        "# handle_missing_data(df)\n",
        "\n",
        "# # Menghapus Kolom yang Tidak Diperlukan\n",
        "# df = df.drop(columns=[\"Unnamed: 0.1\", \"Unnamed: 0\"])\n",
        "\n",
        "# # Mengisi Missing Values pada Kolom 'Reviews' dengan String Kosong\n",
        "# df['Reviews'] = df['Reviews'].fillna('')\n",
        "\n",
        "# # Melakukan Encoding pada Kolom Kategorikal\n",
        "# place_encoder = LabelEncoder()\n",
        "# df['PlaceID'] = place_encoder.fit_transform(df['Nama_tempat_wisata'])\n",
        "\n",
        "# category_encoder = LabelEncoder()\n",
        "# df['Category'] = category_encoder.fit_transform(df['Category'])\n",
        "\n",
        "# reviewer_encoder = LabelEncoder()\n",
        "# df['ReviewerId'] = reviewer_encoder.fit_transform(df['ReviewerId'])\n",
        "\n",
        "# # Memeriksa Data yang Telah Diproses\n",
        "# df.head()\n",
        "\n",
        "# # Membuat SparkSession\n",
        "# spark = SparkSession.builder.appName(\"ALS_Recommendation\").getOrCreate()\n",
        "\n",
        "# # Mengonversi DataFrame Pandas ke Spark DataFrame\n",
        "# spark_df = spark.createDataFrame(df)\n",
        "\n",
        "# # Menangani Missing Data dengan Menghapus Baris yang Mengandung Nilai NaN\n",
        "# spark_df = spark_df.dropna(subset=[\"ReviewerId\", \"PlaceID\", \"Rating\"])\n",
        "\n",
        "# # Melakukan Normalisasi pada Kolom 'Rating'\n",
        "# rating_stats = spark_df.select(mean(\"Rating\").alias(\"mean\"), stddev(\"Rating\").alias(\"std\")).first()\n",
        "# mean_rating, std_rating = rating_stats[\"mean\"], rating_stats[\"std\"]\n",
        "\n",
        "# spark_df = spark_df.withColumn(\"NormalizedRating\", (col(\"Rating\") - mean_rating) / std_rating)\n",
        "\n",
        "# # Membagi Data Menjadi Training, Validation, dan Test Set\n",
        "# train_data, val_data, test_data = spark_df.randomSplit([0.75, 0.15, 0.15], seed=42)\n",
        "\n",
        "# # Mencetak Jumlah Data Setiap Split\n",
        "# print(f\"Training Set: {train_data.count()} rows\")\n",
        "# print(f\"Validation Set: {val_data.count()} rows\")\n",
        "# print(f\"Test Set: {test_data.count()} rows\")\n",
        "\n",
        "# # Membangun Model ALS\n",
        "# als_model = ALS(\n",
        "#     userCol=\"ReviewerId\",\n",
        "#     itemCol=\"PlaceID\",\n",
        "#     ratingCol=\"NormalizedRating\",\n",
        "#     rank=10,\n",
        "#     maxIter=15,\n",
        "#     regParam=0.2,\n",
        "#     nonnegative=True,\n",
        "#     implicitPrefs=False,\n",
        "#     coldStartStrategy=\"drop\"\n",
        "# )\n",
        "\n",
        "# # Melatih Model dengan Data Latih\n",
        "# als_trained_model = als_model.fit(train_data)\n",
        "\n",
        "# # Evaluasi Model pada Validation Set dengan RMSE\n",
        "# evaluator = RegressionEvaluator(metricName=\"rmse\", labelCol=\"NormalizedRating\", predictionCol=\"prediction\")\n",
        "# validation_predictions = als_trained_model.transform(val_data).dropna(subset=[\"prediction\"])\n",
        "# val_rmse = evaluator.evaluate(validation_predictions)\n",
        "# print(f\"Validation RMSE: {val_rmse}\")\n",
        "\n",
        "# # Evaluasi dengan MAE\n",
        "# mae_evaluator = RegressionEvaluator(metricName=\"mae\", labelCol=\"NormalizedRating\", predictionCol=\"prediction\")\n",
        "# val_mae = mae_evaluator.evaluate(validation_predictions)\n",
        "# print(f\"Validation MAE: {val_mae}\")\n",
        "\n",
        "# # Evaluasi Model pada Test Set\n",
        "# test_predictions = als_trained_model.transform(test_data).dropna(subset=[\"prediction\"])\n",
        "# test_rmse = evaluator.evaluate(test_predictions)\n",
        "# test_mae = mae_evaluator.evaluate(test_predictions)\n",
        "\n",
        "# print(f\"Test RMSE: {test_rmse}\")\n",
        "# print(f\"Test MAE: {test_mae}\")\n",
        "\n",
        "# # Visualisasi Hasil Evaluasi\n",
        "# metrics = pd.DataFrame({\n",
        "#     \"Metric\": [\"RMSE\", \"MAE\"],\n",
        "#     \"Value\": [test_rmse, test_mae]\n",
        "# })\n",
        "\n",
        "# plt.figure(figsize=(8, 6))\n",
        "# bars = plt.bar(metrics[\"Metric\"], metrics[\"Value\"], color=['blue', 'orange'])\n",
        "# plt.title(\"Evaluation Metrics: RMSE and MAE\")\n",
        "# plt.ylabel(\"Error Value\")\n",
        "# plt.ylim(0, max(metrics[\"Value\"]) * 1.2)\n",
        "\n",
        "# # Menambahkan Nilai di Atas Setiap Bar\n",
        "# for bar in bars:\n",
        "#     yval = bar.get_height()\n",
        "#     plt.text(bar.get_x() + bar.get_width()/2.0, yval + 0.02, round(yval, 2), ha='center', va='bottom')\n",
        "\n",
        "# plt.grid(axis=\"y\", linestyle=\"--\", alpha=0.7)\n",
        "# plt.show()\n",
        "\n",
        "# # Menampilkan Rekomendasi untuk Setiap Pengguna\n",
        "# K = 10\n",
        "# user_recs = als_trained_model.recommendForAllUsers(K)\n",
        "\n",
        "# # Mengambil Nama Tempat dari Data\n",
        "# place_name_df = spark_df.select(\"PlaceID\", \"Nama_tempat_wisata\").distinct()\n",
        "\n",
        "# # Menggabungkan Rekomendasi dengan Nama Tempat\n",
        "# user_recs_with_names = user_recs.withColumn(\"PlaceID\", explode(col(\"recommendations.PlaceID\"))) \\\n",
        "#     .join(place_name_df, on=\"PlaceID\", how=\"left\")\n",
        "\n",
        "# # Menampilkan Hasil Rekomendasi dengan Nama Tempat\n",
        "# user_recs_with_names.show(10, truncate=False)\n",
        "\n",
        "# # Menghitung Precision, Recall, dan MAP untuk Evaluasi Rekomendasi\n",
        "# from pyspark.sql.functions import collect_list\n",
        "\n",
        "# # Menyusun Ground Truth\n",
        "# actual_places = spark_df.groupBy(\"ReviewerId\").agg(collect_list(\"PlaceID\").alias(\"ActualPlaces\"))\n",
        "\n",
        "# # Menggabungkan Rekomendasi dengan Ground Truth\n",
        "# recommendation_df = user_recs_with_names.withColumn(\"RecommendedPlaces\", col(\"recommendations.PlaceID\")) \\\n",
        "#     .join(actual_places, on=\"ReviewerId\")\n",
        "\n",
        "# # Fungsi Evaluasi Precision, Recall, dan MAP\n",
        "# def precision_at_k(actual, predicted, k):\n",
        "#     actual_set = set(actual)\n",
        "#     predicted_set = set(predicted[:k])\n",
        "#     return len(actual_set & predicted_set) / k\n",
        "\n",
        "# def recall_at_k(actual, predicted, k):\n",
        "#     actual_set = set(actual)\n",
        "#     predicted_set = set(predicted[:k])\n",
        "#     return len(actual_set & predicted_set) / len(actual_set) if len(actual_set) > 0 else 0\n",
        "\n",
        "# def map_at_k(actual, predicted, k):\n",
        "#     score, hits = 0.0, 0\n",
        "#     for i, p in enumerate(predicted[:k]):\n",
        "#         if p in actual:\n",
        "#             hits += 1\n",
        "#             score += hits / (i + 1.0)\n",
        "#     return score / min(len(actual), k) if actual else 0.0\n",
        "\n",
        "# # Menghitung Precision, Recall, dan MAP untuk Setiap Pengguna\n",
        "# evaluation_results = recommendation_df.rdd.map(lambda row: (\n",
        "#     row[\"ReviewerId\"],\n",
        "#     precision_at_k(row[\"ActualPlaces\"], row[\"RecommendedPlaces\"], K),\n",
        "#     recall_at_k(row[\"ActualPlaces\"], row[\"RecommendedPlaces\"], K),\n",
        "#     map_at_k(row[\"ActualPlaces\"], row[\"RecommendedPlaces\"], K)\n",
        "# ))\n",
        "\n",
        "# # Mengubah Hasil ke dalam DataFrame\n",
        "# evaluation_results_df = evaluation_results.toDF([\"ReviewerId\", \"Precision\", \"Recall\", \"MAP\"])\n",
        "\n",
        "# # Menghitung Rata-rata Metrics\n",
        "# avg_precision = evaluation_results_df.select(\"Precision\").rdd.map(lambda x: x[0]).mean()\n",
        "# avg_recall = evaluation_results_df.select(\"Recall\").rdd.map(lambda x: x[0]).mean()\n",
        "# avg_map = evaluation_results_df.select(\"MAP\").rdd.map(lambda x: x[0]).mean()\n",
        "\n",
        "# print(f\"Average Precision at {K}: {avg_precision}\")\n",
        "# print(f\"Average Recall at {K}: {avg_recall}\")\n",
        "# print(f\"Mean Average Precision at {K}: {avg_map}\")\n",
        "\n",
        "# # Visualisasi Hasil Evaluasi\n",
        "# metrics_data = pd.DataFrame({\n",
        "#     \"Metric\": [\"Precision\", \"Recall\", \"MAP\"],\n",
        "#     \"Value\": [avg_precision, avg_recall, avg_map]\n",
        "# })\n",
        "\n",
        "# plt.figure(figsize=(10, 6))\n",
        "# bars = plt.bar(metrics_data[\"Metric\"], metrics_data[\"Value\"], color=['green', 'blue', 'purple'])\n",
        "# plt.title(\"Evaluation Metrics: Precision, Recall, and MAP\")\n",
        "# plt.ylabel(\"Metric Value\")\n",
        "# plt.ylim(0, 1)\n",
        "\n",
        "# # Menambahkan Nilai di Atas Setiap Bar\n",
        "# for bar in bars:\n",
        "#     yval = bar.get_height()\n",
        "#     plt.text(bar.get_x() + bar.get_width()/2.0, yval + 0.02, f\"{yval:.2f}\", ha='center', va='bottom')\n",
        "\n",
        "# plt.grid(axis=\"y\", linestyle=\"--\", alpha=0.7)\n",
        "# plt.show()\n",
        "\n",
        "\n",
        "# (\"Evaluation Metrics (Precision, Recall, MAP):\")\n",
        "# print(metrics_data)\n",
        "\n",
        "# # Menampilkan Top 5 Rekomendasi untuk Setiap Pengguna\n",
        "# K = 5  # Ubah ke 5 untuk menampilkan top 5 rekomendasi\n",
        "# user_recs_top_5 = als_trained_model.recommendForAllUsers(K)\n",
        "\n",
        "# # Mengambil Nama Tempat dari Data\n",
        "# place_name_df = spark_df.select(\"PlaceID\", \"Nama_tempat_wisata\").distinct()\n",
        "\n",
        "# # Menggabungkan Rekomendasi dengan Nama Tempat\n",
        "# user_recs_with_names = user_recs_top_5.withColumn(\"PlaceID\", explode(col(\"recommendations.PlaceID\"))) \\\n",
        "#     .join(place_name_df, on=\"PlaceID\", how=\"left\")\n",
        "\n",
        "# # Menampilkan Hasil Rekomendasi dengan Nama Tempat\n",
        "# user_recs_with_names.show(5, truncate=False)\n",
        "\n",
        "\n"
      ],
      "metadata": {
        "colab": {
          "base_uri": "https://localhost:8080/",
          "height": 1000
        },
        "id": "taTQp3AjwbvA",
        "outputId": "0e5de202-d95f-4284-fec6-e00b629a96dd"
      },
      "execution_count": null,
      "outputs": [
        {
          "output_type": "stream",
          "name": "stdout",
          "text": [
            "Drive already mounted at /content/gdrive; to attempt to forcibly remount, call drive.mount(\"/content/gdrive\", force_remount=True).\n",
            "Nilai yang hilang di setiap kolom:\n",
            "Reviews               21060\n",
            "ReviewerId                1\n",
            "Rating                    1\n",
            "Unnamed: 0.1              0\n",
            "Unnamed: 0                0\n",
            "address                   0\n",
            "PlaceID                   0\n",
            "Nama_tempat_wisata        0\n",
            "Category                  0\n",
            "dtype: int64\n",
            "Training Set: 31058 rows\n",
            "Validation Set: 6065 rows\n",
            "Test Set: 6102 rows\n",
            "Validation RMSE: 0.997558396951096\n",
            "Validation MAE: 0.7030104679389011\n",
            "Test RMSE: 0.960887673886217\n",
            "Test MAE: 0.6853495079378059\n"
          ]
        },
        {
          "output_type": "display_data",
          "data": {
            "text/plain": [
              "<Figure size 800x600 with 1 Axes>"
            ],
            "image/png": "[encoded data removed]"
          },
          "metadata": {}
        },
        {
          "output_type": "stream",
          "name": "stdout",
          "text": [
            "+-------+----------+--------------------------------------------------------------------------------------------------------------------------------------------------------------------------------+------------------------------------+\n",
            "|PlaceID|ReviewerId|recommendations                                                                                                                                                                 |Nama_tempat_wisata                  |\n",
            "+-------+----------+--------------------------------------------------------------------------------------------------------------------------------------------------------------------------------+------------------------------------+\n",
            "|22     |1         |[{31, 0.28178}, {22, 0.27387094}, {44, 0.2462116}, {24, 0.24440843}, {15, 0.24251826}, {97, 0.2384093}, {37, 0.23214492}, {32, 0.23195261}, {18, 0.22586334}, {60, 0.22394812}] |Bukit Indah Simarjarunjung          |\n",
            "|32     |1         |[{31, 0.28178}, {22, 0.27387094}, {44, 0.2462116}, {24, 0.24440843}, {15, 0.24251826}, {97, 0.2384093}, {37, 0.23214492}, {32, 0.23195261}, {18, 0.22586334}, {60, 0.22394812}] |Dolok Pesona Panoguan Solu          |\n",
            "|31     |1         |[{31, 0.28178}, {22, 0.27387094}, {44, 0.2462116}, {24, 0.24440843}, {15, 0.24251826}, {97, 0.2384093}, {37, 0.23214492}, {32, 0.23195261}, {18, 0.22586334}, {60, 0.22394812}] |Desa Wisata Sigapiton               |\n",
            "|31     |3         |[{31, 0.3589338}, {69, 0.34727076}, {20, 0.32473913}, {37, 0.31156722}, {29, 0.31111565}, {45, 0.30899674}, {21, 0.3037295}, {38, 0.3032528}, {6, 0.30211803}, {77, 0.30079493}]|Desa Wisata Sigapiton               |\n",
            "|44     |1         |[{31, 0.28178}, {22, 0.27387094}, {44, 0.2462116}, {24, 0.24440843}, {15, 0.24251826}, {97, 0.2384093}, {37, 0.23214492}, {32, 0.23195261}, {18, 0.22586334}, {60, 0.22394812}] |Makam Missonaris Pdt.DR.IL.Nommensen|\n",
            "|37     |1         |[{31, 0.28178}, {22, 0.27387094}, {44, 0.2462116}, {24, 0.24440843}, {15, 0.24251826}, {97, 0.2384093}, {37, 0.23214492}, {32, 0.23195261}, {18, 0.22586334}, {60, 0.22394812}] |Huta Siallagan                      |\n",
            "|18     |1         |[{31, 0.28178}, {22, 0.27387094}, {44, 0.2462116}, {24, 0.24440843}, {15, 0.24251826}, {97, 0.2384093}, {37, 0.23214492}, {32, 0.23195261}, {18, 0.22586334}, {60, 0.22394812}] |Bukit Doa                           |\n",
            "|15     |1         |[{31, 0.28178}, {22, 0.27387094}, {44, 0.2462116}, {24, 0.24440843}, {15, 0.24251826}, {97, 0.2384093}, {37, 0.23214492}, {32, 0.23195261}, {18, 0.22586334}, {60, 0.22394812}] |Batu Maroppa                        |\n",
            "|97     |1         |[{31, 0.28178}, {22, 0.27387094}, {44, 0.2462116}, {24, 0.24440843}, {15, 0.24251826}, {97, 0.2384093}, {37, 0.23214492}, {32, 0.23195261}, {18, 0.22586334}, {60, 0.22394812}] |Tugu Toga Aritonang                 |\n",
            "|60     |1         |[{31, 0.28178}, {22, 0.27387094}, {44, 0.2462116}, {24, 0.24440843}, {15, 0.24251826}, {97, 0.2384093}, {37, 0.23214492}, {32, 0.23195261}, {18, 0.22586334}, {60, 0.22394812}] |Pantai Meat                         |\n",
            "+-------+----------+--------------------------------------------------------------------------------------------------------------------------------------------------------------------------------+------------------------------------+\n",
            "only showing top 10 rows\n",
            "\n",
            "Average Precision at 10: 0.05232688429072933\n",
            "Average Recall at 10: 0.260346090917755\n",
            "Mean Average Precision at 10: 0.0800676454095777\n"
          ]
        },
        {
          "output_type": "display_data",
          "data": {
            "text/plain": [
              "<Figure size 1000x600 with 1 Axes>"
            ],
            "image/png": "[encoded data removed]"
          },
          "metadata": {}
        },
        {
          "output_type": "stream",
          "name": "stdout",
          "text": [
            "      Metric     Value\n",
            "0  Precision  0.052327\n",
            "1     Recall  0.260346\n",
            "2        MAP  0.080068\n",
            "+-------+----------+-----------------------------------------------------------------------------------------+------------------------------------+\n",
            "|PlaceID|ReviewerId|recommendations                                                                          |Nama_tempat_wisata                  |\n",
            "+-------+----------+-----------------------------------------------------------------------------------------+------------------------------------+\n",
            "|22     |1         |[{31, 0.28178}, {22, 0.27387094}, {44, 0.2462116}, {24, 0.24440843}, {15, 0.24251826}]   |Bukit Indah Simarjarunjung          |\n",
            "|31     |1         |[{31, 0.28178}, {22, 0.27387094}, {44, 0.2462116}, {24, 0.24440843}, {15, 0.24251826}]   |Desa Wisata Sigapiton               |\n",
            "|31     |3         |[{31, 0.3589338}, {69, 0.34727076}, {20, 0.32473913}, {37, 0.31156722}, {29, 0.31111565}]|Desa Wisata Sigapiton               |\n",
            "|44     |1         |[{31, 0.28178}, {22, 0.27387094}, {44, 0.2462116}, {24, 0.24440843}, {15, 0.24251826}]   |Makam Missonaris Pdt.DR.IL.Nommensen|\n",
            "|15     |1         |[{31, 0.28178}, {22, 0.27387094}, {44, 0.2462116}, {24, 0.24440843}, {15, 0.24251826}]   |Batu Maroppa                        |\n",
            "+-------+----------+-----------------------------------------------------------------------------------------+------------------------------------+\n",
            "only showing top 5 rows\n",
            "\n"
          ]
        }
      ]
    }
  ]
}