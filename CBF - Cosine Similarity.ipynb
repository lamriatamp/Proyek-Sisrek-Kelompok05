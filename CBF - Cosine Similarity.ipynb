{
 "cells": [
  {
   "cell_type": "code",
   "execution_count": null,
   "metadata": {
    "colab": {
     "base_uri": "https://localhost:8080/",
     "height": 590
    },
    "id": "39psYcQPSUCk",
    "outputId": "7853b6ec-4e97-4b22-a507-250ab91039ad"
   },
   "outputs": [
    {
     "data": {
      "application/vnd.google.colaboratory.intrinsic+json": {
       "summary": "{\n  \"name\": \"data\",\n  \"rows\": 43226,\n  \"fields\": [\n    {\n      \"column\": \"Unnamed: 0.1\",\n      \"properties\": {\n        \"dtype\": \"number\",\n        \"std\": 12478,\n        \"min\": 0,\n        \"max\": 43225,\n        \"num_unique_values\": 43226,\n        \"samples\": [\n          465,\n          1278,\n          15320\n        ],\n        \"semantic_type\": \"\",\n        \"description\": \"\"\n      }\n    },\n    {\n      \"column\": \"Unnamed: 0\",\n      \"properties\": {\n        \"dtype\": \"number\",\n        \"std\": 12478,\n        \"min\": 0,\n        \"max\": 43225,\n        \"num_unique_values\": 43226,\n        \"samples\": [\n          465,\n          1278,\n          15320\n        ],\n        \"semantic_type\": \"\",\n        \"description\": \"\"\n      }\n    },\n    {\n      \"column\": \"address\",\n      \"properties\": {\n        \"dtype\": \"category\",\n        \"num_unique_values\": 100,\n        \"samples\": [\n          \"WG69+M82, Tongging, Kec. Merek, Kabupaten Karo, Sumatera Utara 22173, Indonesia\",\n          \"83M7+RJ4, Napitupulu Bagasan, Kec. Balige, Toba, Sumatera Utara, Indonesia\",\n          \"Taman Eden, Ps. Lumban Julu, Kec. Lumban Julu, Toba, Sumatera Utara 22386, Indonesia\"\n        ],\n        \"semantic_type\": \"\",\n        \"description\": \"\"\n      }\n    },\n    {\n      \"column\": \"PlaceID\",\n      \"properties\": {\n        \"dtype\": \"number\",\n        \"std\": 28,\n        \"min\": 0,\n        \"max\": 101,\n        \"num_unique_values\": 102,\n        \"samples\": [\n          30,\n          67,\n          62\n        ],\n        \"semantic_type\": \"\",\n        \"description\": \"\"\n      }\n    },\n    {\n      \"column\": \"Nama_tempat_wisata\",\n      \"properties\": {\n        \"dtype\": \"category\",\n        \"num_unique_values\": 102,\n        \"samples\": [\n          \"Panatapan Tara Bunga\",\n          \"Pantai Indah Situngkir (PIS)\",\n          \"Pasar Tomok\"\n        ],\n        \"semantic_type\": \"\",\n        \"description\": \"\"\n      }\n    },\n    {\n      \"column\": \"Category\",\n      \"properties\": {\n        \"dtype\": \"category\",\n        \"num_unique_values\": 8,\n        \"samples\": [\n          \"Wisata Rohani\",\n          \"Wisata Sejarah\",\n          \"Wisata Bahari\"\n        ],\n        \"semantic_type\": \"\",\n        \"description\": \"\"\n      }\n    },\n    {\n      \"column\": \"ReviewerId\",\n      \"properties\": {\n        \"dtype\": \"number\",\n        \"std\": 5.343909672784782e+18,\n        \"min\": 1.00001e+20,\n        \"max\": 1.18446e+20,\n        \"num_unique_values\": 15011,\n        \"samples\": [\n          1.07312e+20,\n          1.03124e+20,\n          1.03245e+20\n        ],\n        \"semantic_type\": \"\",\n        \"description\": \"\"\n      }\n    },\n    {\n      \"column\": \"Rating\",\n      \"properties\": {\n        \"dtype\": \"number\",\n        \"std\": 0.9277599389462311,\n        \"min\": 1.0,\n        \"max\": 5.0,\n        \"num_unique_values\": 5,\n        \"samples\": [\n          2.0,\n          1.0,\n          3.0\n        ],\n        \"semantic_type\": \"\",\n        \"description\": \"\"\n      }\n    },\n    {\n      \"column\": \"Reviews\",\n      \"properties\": {\n        \"dtype\": \"category\",\n        \"num_unique_values\": 17992,\n        \"samples\": [\n          \"tidak ramah disabilitas tidak ada fasilitas pengguna kursi roda tidak ramah anak track berbatu cukup berbahaya\\narea parkir tidak bagus dengan biaya parkir rp10rb sangat tidak masuk akal\\nuntuk spot foto lumayan tidak lebih istimewa dibanding tempat lain di sekitar danau toba\",\n          \"keren kali buat nembak si polan cuy\\ud83d\\ude01\",\n          \"diterjemahkan oleh google bagus\\n\\nasli\\nnice\"\n        ],\n        \"semantic_type\": \"\",\n        \"description\": \"\"\n      }\n    }\n  ]\n}",
       "type": "dataframe",
       "variable_name": "data"
      },
      "text/html": [
       "\n",
       "  <div id=\"df-496b4fa0-c011-40ae-9327-2f909f4dc525\" class=\"colab-df-container\">\n",
       "    <div>\n",
       "<style scoped>\n",
       "    .dataframe tbody tr th:only-of-type {\n",
       "        vertical-align: middle;\n",
       "    }\n",
       "\n",
       "    .dataframe tbody tr th {\n",
       "        vertical-align: top;\n",
       "    }\n",
       "\n",
       "    .dataframe thead th {\n",
       "        text-align: right;\n",
       "    }\n",
       "</style>\n",
       "<table border=\"1\" class=\"dataframe\">\n",
       "  <thead>\n",
       "    <tr style=\"text-align: right;\">\n",
       "      <th></th>\n",
       "      <th>Unnamed: 0.1</th>\n",
       "      <th>Unnamed: 0</th>\n",
       "      <th>address</th>\n",
       "      <th>PlaceID</th>\n",
       "      <th>Nama_tempat_wisata</th>\n",
       "      <th>Category</th>\n",
       "      <th>ReviewerId</th>\n",
       "      <th>Rating</th>\n",
       "      <th>Reviews</th>\n",
       "    </tr>\n",
       "  </thead>\n",
       "  <tbody>\n",
       "    <tr>\n",
       "      <th>0</th>\n",
       "      <td>0</td>\n",
       "      <td>0</td>\n",
       "      <td>Jl. Sibola Hotang, Sibola Hotangsas, Kec. Bali...</td>\n",
       "      <td>0</td>\n",
       "      <td>PASIR PUTIH LUMBAN BULBUL</td>\n",
       "      <td>Wisata Bahari</td>\n",
       "      <td>1.126030e+20</td>\n",
       "      <td>5.0</td>\n",
       "      <td>NaN</td>\n",
       "    </tr>\n",
       "    <tr>\n",
       "      <th>1</th>\n",
       "      <td>1</td>\n",
       "      <td>1</td>\n",
       "      <td>Jl. Sibola Hotang, Sibola Hotangsas, Kec. Bali...</td>\n",
       "      <td>0</td>\n",
       "      <td>PASIR PUTIH LUMBAN BULBUL</td>\n",
       "      <td>Wisata Bahari</td>\n",
       "      <td>1.119090e+20</td>\n",
       "      <td>5.0</td>\n",
       "      <td>bagus</td>\n",
       "    </tr>\n",
       "    <tr>\n",
       "      <th>2</th>\n",
       "      <td>2</td>\n",
       "      <td>2</td>\n",
       "      <td>Jl. Sibola Hotang, Sibola Hotangsas, Kec. Bali...</td>\n",
       "      <td>0</td>\n",
       "      <td>PASIR PUTIH LUMBAN BULBUL</td>\n",
       "      <td>Wisata Bahari</td>\n",
       "      <td>1.078860e+20</td>\n",
       "      <td>5.0</td>\n",
       "      <td>NaN</td>\n",
       "    </tr>\n",
       "    <tr>\n",
       "      <th>3</th>\n",
       "      <td>3</td>\n",
       "      <td>3</td>\n",
       "      <td>Jl. Sibola Hotang, Sibola Hotangsas, Kec. Bali...</td>\n",
       "      <td>0</td>\n",
       "      <td>PASIR PUTIH LUMBAN BULBUL</td>\n",
       "      <td>Wisata Bahari</td>\n",
       "      <td>1.130720e+20</td>\n",
       "      <td>5.0</td>\n",
       "      <td>sangat menyenagkan</td>\n",
       "    </tr>\n",
       "    <tr>\n",
       "      <th>4</th>\n",
       "      <td>4</td>\n",
       "      <td>4</td>\n",
       "      <td>Jl. Sibola Hotang, Sibola Hotangsas, Kec. Bali...</td>\n",
       "      <td>0</td>\n",
       "      <td>PASIR PUTIH LUMBAN BULBUL</td>\n",
       "      <td>Wisata Bahari</td>\n",
       "      <td>1.061730e+20</td>\n",
       "      <td>5.0</td>\n",
       "      <td>bebas foto dimana aja cuma 2k</td>\n",
       "    </tr>\n",
       "  </tbody>\n",
       "</table>\n",
       "</div>\n",
       "    <div class=\"colab-df-buttons\">\n",
       "\n",
       "  <div class=\"colab-df-container\">\n",
       "    <button class=\"colab-df-convert\" onclick=\"convertToInteractive('df-496b4fa0-c011-40ae-9327-2f909f4dc525')\"\n",
       "            title=\"Convert this dataframe to an interactive table.\"\n",
       "            style=\"display:none;\">\n",
       "\n",
       "  <svg xmlns=\"http://www.w3.org/2000/svg\" height=\"24px\" viewBox=\"0 -960 960 960\">\n",
       "    <path d=\"M120-120v-720h720v720H120Zm60-500h600v-160H180v160Zm220 220h160v-160H400v160Zm0 220h160v-160H400v160ZM180-400h160v-160H180v160Zm440 0h160v-160H620v160ZM180-180h160v-160H180v160Zm440 0h160v-160H620v160Z\"/>\n",
       "  </svg>\n",
       "    </button>\n",
       "\n",
       "  <style>\n",
       "    .colab-df-container {\n",
       "      display:flex;\n",
       "      gap: 12px;\n",
       "    }\n",
       "\n",
       "    .colab-df-convert {\n",
       "      background-color: #E8F0FE;\n",
       "      border: none;\n",
       "      border-radius: 50%;\n",
       "      cursor: pointer;\n",
       "      display: none;\n",
       "      fill: #1967D2;\n",
       "      height: 32px;\n",
       "      padding: 0 0 0 0;\n",
       "      width: 32px;\n",
       "    }\n",
       "\n",
       "    .colab-df-convert:hover {\n",
       "      background-color: #E2EBFA;\n",
       "      box-shadow: 0px 1px 2px rgba(60, 64, 67, 0.3), 0px 1px 3px 1px rgba(60, 64, 67, 0.15);\n",
       "      fill: #174EA6;\n",
       "    }\n",
       "\n",
       "    .colab-df-buttons div {\n",
       "      margin-bottom: 4px;\n",
       "    }\n",
       "\n",
       "    [theme=dark] .colab-df-convert {\n",
       "      background-color: #3B4455;\n",
       "      fill: #D2E3FC;\n",
       "    }\n",
       "\n",
       "    [theme=dark] .colab-df-convert:hover {\n",
       "      background-color: #434B5C;\n",
       "      box-shadow: 0px 1px 3px 1px rgba(0, 0, 0, 0.15);\n",
       "      filter: drop-shadow(0px 1px 2px rgba(0, 0, 0, 0.3));\n",
       "      fill: #FFFFFF;\n",
       "    }\n",
       "  </style>\n",
       "\n",
       "    <script>\n",
       "      const buttonEl =\n",
       "        document.querySelector('#df-496b4fa0-c011-40ae-9327-2f909f4dc525 button.colab-df-convert');\n",
       "      buttonEl.style.display =\n",
       "        google.colab.kernel.accessAllowed ? 'block' : 'none';\n",
       "\n",
       "      async function convertToInteractive(key) {\n",
       "        const element = document.querySelector('#df-496b4fa0-c011-40ae-9327-2f909f4dc525');\n",
       "        const dataTable =\n",
       "          await google.colab.kernel.invokeFunction('convertToInteractive',\n",
       "                                                    [key], {});\n",
       "        if (!dataTable) return;\n",
       "\n",
       "        const docLinkHtml = 'Like what you see? Visit the ' +\n",
       "          '<a target=\"_blank\" href=https://colab.research.google.com/notebooks/data_table.ipynb>data table notebook</a>'\n",
       "          + ' to learn more about interactive tables.';\n",
       "        element.innerHTML = '';\n",
       "        dataTable['output_type'] = 'display_data';\n",
       "        await google.colab.output.renderOutput(dataTable, element);\n",
       "        const docLink = document.createElement('div');\n",
       "        docLink.innerHTML = docLinkHtml;\n",
       "        element.appendChild(docLink);\n",
       "      }\n",
       "    </script>\n",
       "  </div>\n",
       "\n",
       "\n",
       "<div id=\"df-08d1dc6c-86c9-4de7-9f49-6c9c5f07c21c\">\n",
       "  <button class=\"colab-df-quickchart\" onclick=\"quickchart('df-08d1dc6c-86c9-4de7-9f49-6c9c5f07c21c')\"\n",
       "            title=\"Suggest charts\"\n",
       "            style=\"display:none;\">\n",
       "\n",
       "<svg xmlns=\"http://www.w3.org/2000/svg\" height=\"24px\"viewBox=\"0 0 24 24\"\n",
       "     width=\"24px\">\n",
       "    <g>\n",
       "        <path d=\"M19 3H5c-1.1 0-2 .9-2 2v14c0 1.1.9 2 2 2h14c1.1 0 2-.9 2-2V5c0-1.1-.9-2-2-2zM9 17H7v-7h2v7zm4 0h-2V7h2v10zm4 0h-2v-4h2v4z\"/>\n",
       "    </g>\n",
       "</svg>\n",
       "  </button>\n",
       "\n",
       "<style>\n",
       "  .colab-df-quickchart {\n",
       "      --bg-color: #E8F0FE;\n",
       "      --fill-color: #1967D2;\n",
       "      --hover-bg-color: #E2EBFA;\n",
       "      --hover-fill-color: #174EA6;\n",
       "      --disabled-fill-color: #AAA;\n",
       "      --disabled-bg-color: #DDD;\n",
       "  }\n",
       "\n",
       "  [theme=dark] .colab-df-quickchart {\n",
       "      --bg-color: #3B4455;\n",
       "      --fill-color: #D2E3FC;\n",
       "      --hover-bg-color: #434B5C;\n",
       "      --hover-fill-color: #FFFFFF;\n",
       "      --disabled-bg-color: #3B4455;\n",
       "      --disabled-fill-color: #666;\n",
       "  }\n",
       "\n",
       "  .colab-df-quickchart {\n",
       "    background-color: var(--bg-color);\n",
       "    border: none;\n",
       "    border-radius: 50%;\n",
       "    cursor: pointer;\n",
       "    display: none;\n",
       "    fill: var(--fill-color);\n",
       "    height: 32px;\n",
       "    padding: 0;\n",
       "    width: 32px;\n",
       "  }\n",
       "\n",
       "  .colab-df-quickchart:hover {\n",
       "    background-color: var(--hover-bg-color);\n",
       "    box-shadow: 0 1px 2px rgba(60, 64, 67, 0.3), 0 1px 3px 1px rgba(60, 64, 67, 0.15);\n",
       "    fill: var(--button-hover-fill-color);\n",
       "  }\n",
       "\n",
       "  .colab-df-quickchart-complete:disabled,\n",
       "  .colab-df-quickchart-complete:disabled:hover {\n",
       "    background-color: var(--disabled-bg-color);\n",
       "    fill: var(--disabled-fill-color);\n",
       "    box-shadow: none;\n",
       "  }\n",
       "\n",
       "  .colab-df-spinner {\n",
       "    border: 2px solid var(--fill-color);\n",
       "    border-color: transparent;\n",
       "    border-bottom-color: var(--fill-color);\n",
       "    animation:\n",
       "      spin 1s steps(1) infinite;\n",
       "  }\n",
       "\n",
       "  @keyframes spin {\n",
       "    0% {\n",
       "      border-color: transparent;\n",
       "      border-bottom-color: var(--fill-color);\n",
       "      border-left-color: var(--fill-color);\n",
       "    }\n",
       "    20% {\n",
       "      border-color: transparent;\n",
       "      border-left-color: var(--fill-color);\n",
       "      border-top-color: var(--fill-color);\n",
       "    }\n",
       "    30% {\n",
       "      border-color: transparent;\n",
       "      border-left-color: var(--fill-color);\n",
       "      border-top-color: var(--fill-color);\n",
       "      border-right-color: var(--fill-color);\n",
       "    }\n",
       "    40% {\n",
       "      border-color: transparent;\n",
       "      border-right-color: var(--fill-color);\n",
       "      border-top-color: var(--fill-color);\n",
       "    }\n",
       "    60% {\n",
       "      border-color: transparent;\n",
       "      border-right-color: var(--fill-color);\n",
       "    }\n",
       "    80% {\n",
       "      border-color: transparent;\n",
       "      border-right-color: var(--fill-color);\n",
       "      border-bottom-color: var(--fill-color);\n",
       "    }\n",
       "    90% {\n",
       "      border-color: transparent;\n",
       "      border-bottom-color: var(--fill-color);\n",
       "    }\n",
       "  }\n",
       "</style>\n",
       "\n",
       "  <script>\n",
       "    async function quickchart(key) {\n",
       "      const quickchartButtonEl =\n",
       "        document.querySelector('#' + key + ' button');\n",
       "      quickchartButtonEl.disabled = true;  // To prevent multiple clicks.\n",
       "      quickchartButtonEl.classList.add('colab-df-spinner');\n",
       "      try {\n",
       "        const charts = await google.colab.kernel.invokeFunction(\n",
       "            'suggestCharts', [key], {});\n",
       "      } catch (error) {\n",
       "        console.error('Error during call to suggestCharts:', error);\n",
       "      }\n",
       "      quickchartButtonEl.classList.remove('colab-df-spinner');\n",
       "      quickchartButtonEl.classList.add('colab-df-quickchart-complete');\n",
       "    }\n",
       "    (() => {\n",
       "      let quickchartButtonEl =\n",
       "        document.querySelector('#df-08d1dc6c-86c9-4de7-9f49-6c9c5f07c21c button');\n",
       "      quickchartButtonEl.style.display =\n",
       "        google.colab.kernel.accessAllowed ? 'block' : 'none';\n",
       "    })();\n",
       "  </script>\n",
       "</div>\n",
       "\n",
       "    </div>\n",
       "  </div>\n"
      ],
      "text/plain": [
       "   Unnamed: 0.1  Unnamed: 0  \\\n",
       "0             0           0   \n",
       "1             1           1   \n",
       "2             2           2   \n",
       "3             3           3   \n",
       "4             4           4   \n",
       "\n",
       "                                             address  PlaceID  \\\n",
       "0  Jl. Sibola Hotang, Sibola Hotangsas, Kec. Bali...        0   \n",
       "1  Jl. Sibola Hotang, Sibola Hotangsas, Kec. Bali...        0   \n",
       "2  Jl. Sibola Hotang, Sibola Hotangsas, Kec. Bali...        0   \n",
       "3  Jl. Sibola Hotang, Sibola Hotangsas, Kec. Bali...        0   \n",
       "4  Jl. Sibola Hotang, Sibola Hotangsas, Kec. Bali...        0   \n",
       "\n",
       "          Nama_tempat_wisata       Category    ReviewerId  Rating  \\\n",
       "0  PASIR PUTIH LUMBAN BULBUL  Wisata Bahari  1.126030e+20     5.0   \n",
       "1  PASIR PUTIH LUMBAN BULBUL  Wisata Bahari  1.119090e+20     5.0   \n",
       "2  PASIR PUTIH LUMBAN BULBUL  Wisata Bahari  1.078860e+20     5.0   \n",
       "3  PASIR PUTIH LUMBAN BULBUL  Wisata Bahari  1.130720e+20     5.0   \n",
       "4  PASIR PUTIH LUMBAN BULBUL  Wisata Bahari  1.061730e+20     5.0   \n",
       "\n",
       "                         Reviews  \n",
       "0                            NaN  \n",
       "1                          bagus  \n",
       "2                            NaN  \n",
       "3             sangat menyenagkan  \n",
       "4  bebas foto dimana aja cuma 2k  "
      ]
     },
     "execution_count": 1,
     "metadata": {},
     "output_type": "execute_result"
    }
   ],
   "source": [
    "import pandas as pd\n",
    "\n",
    "# Load dataset\n",
    "file_path = 'Tempat-Wisata-Toba-Preprocessing.csv'\n",
    "data = pd.read_csv(file_path)\n",
    "\n",
    "data.head()"
   ]
  },
  {
   "cell_type": "code",
   "execution_count": null,
   "metadata": {
    "id": "aVVfRYNxybg0"
   },
   "outputs": [],
   "source": []
  },
  {
   "cell_type": "code",
   "execution_count": null,
   "metadata": {
    "id": "dsD5PD5mU0LC"
   },
   "outputs": [],
   "source": [
    "# Buat pivot table user-item\n",
    "user_item_matrix = data.pivot_table(\n",
    "    index='ReviewerId',\n",
    "    columns='PlaceID',\n",
    "    values='Rating',\n",
    "    aggfunc='mean',\n",
    "    fill_value=0\n",
    ")"
   ]
  },
  {
   "cell_type": "code",
   "execution_count": null,
   "metadata": {
    "colab": {
     "base_uri": "https://localhost:8080/"
    },
    "id": "OqdiGJfdVA0s",
    "outputId": "e2e2eef1-f3bf-46fb-80fd-d9ec7235444c"
   },
   "outputs": [
    {
     "name": "stdout",
     "output_type": "stream",
     "text": [
      "PlaceID       0    1    2    3    4    5    6    8    9    10   ...  92   93   \\\n",
      "ReviewerId                                                      ...             \n",
      "1.000010e+20  0.0  0.0  0.0  0.0  0.0  0.0  0.0  0.0  0.0  0.0  ...  0.0  0.0   \n",
      "1.000020e+20  0.0  0.0  0.0  0.0  0.0  0.0  0.0  0.0  0.0  0.0  ...  0.0  5.0   \n",
      "1.000030e+20  0.0  0.0  0.0  0.0  0.0  0.0  0.0  0.0  0.0  0.0  ...  0.0  0.0   \n",
      "1.000040e+20  0.0  0.0  0.0  0.0  0.0  0.0  0.0  0.0  0.0  0.0  ...  0.0  0.0   \n",
      "1.000050e+20  0.0  0.0  0.0  0.0  0.0  0.0  0.0  0.0  0.0  0.0  ...  0.0  0.0   \n",
      "\n",
      "PlaceID       94   95   96   97   98   99   100  101  \n",
      "ReviewerId                                            \n",
      "1.000010e+20  0.0  0.0  0.0  0.0  0.0  0.0  0.0  0.0  \n",
      "1.000020e+20  0.0  0.0  0.0  0.0  0.0  0.0  0.0  0.0  \n",
      "1.000030e+20  0.0  0.0  0.0  0.0  4.0  0.0  0.0  0.0  \n",
      "1.000040e+20  0.0  0.0  0.0  0.0  0.0  0.0  0.0  0.0  \n",
      "1.000050e+20  0.0  0.0  0.0  0.0  0.0  0.0  0.0  0.0  \n",
      "\n",
      "[5 rows x 101 columns]\n"
     ]
    }
   ],
   "source": [
    "# Membuat pivot table\n",
    "pivot_table = data.pivot_table(index='ReviewerId', columns='PlaceID', values='Rating', fill_value=0)\n",
    "\n",
    "# Menampilkan pivot table\n",
    "print(pivot_table.head())"
   ]
  },
  {
   "cell_type": "code",
   "execution_count": null,
   "metadata": {
    "colab": {
     "base_uri": "https://localhost:8080/"
    },
    "id": "9IzItqQuVeSQ",
    "outputId": "d9f35edd-dfdb-4a88-fd12-94ba6e62d12f"
   },
   "outputs": [
    {
     "name": "stdout",
     "output_type": "stream",
     "text": [
      "Requirement already satisfied: scikit-learn in /usr/local/lib/python3.10/dist-packages (1.5.2)\n",
      "Requirement already satisfied: numpy>=1.19.5 in /usr/local/lib/python3.10/dist-packages (from scikit-learn) (1.26.4)\n",
      "Requirement already satisfied: scipy>=1.6.0 in /usr/local/lib/python3.10/dist-packages (from scikit-learn) (1.13.1)\n",
      "Requirement already satisfied: joblib>=1.2.0 in /usr/local/lib/python3.10/dist-packages (from scikit-learn) (1.4.2)\n",
      "Requirement already satisfied: threadpoolctl>=3.1.0 in /usr/local/lib/python3.10/dist-packages (from scikit-learn) (3.5.0)\n"
     ]
    }
   ],
   "source": [
    "!pip install scikit-learn\n",
    "import pandas as pd\n",
    "from sklearn.metrics.pairwise import cosine_similarity # Import the cosine_similarity function"
   ]
  },
  {
   "cell_type": "code",
   "execution_count": null,
   "metadata": {
    "id": "j2kww3rCVNwt"
   },
   "outputs": [],
   "source": [
    "# Hitung cosine similarity antar item\n",
    "item_similarity = cosine_similarity(user_item_matrix.T)\n",
    "item_similarity_df = pd.DataFrame(item_similarity, index=user_item_matrix.columns, columns=user_item_matrix.columns)"
   ]
  },
  {
   "cell_type": "code",
   "execution_count": null,
   "metadata": {
    "id": "v7nH6-rDVzLH"
   },
   "outputs": [],
   "source": [
    "def predict_ratings(user_item_matrix, similarity_matrix):\n",
    "    # Transpose user_item_matrix untuk menghitung item-based\n",
    "    mean_item_rating = user_item_matrix.mean(axis=0).reshape(1, -1)  # Rata-rata per item\n",
    "    ratings_diff = user_item_matrix - mean_item_rating  # Selisih dengan rata-rata item\n",
    "    pred = mean_item_rating + ratings_diff.dot(similarity_matrix) / np.abs(similarity_matrix).sum(axis=1)\n",
    "    return pred"
   ]
  },
  {
   "cell_type": "code",
   "execution_count": null,
   "metadata": {
    "id": "pnki-yeuV-oY"
   },
   "outputs": [],
   "source": [
    "# Import necessary libraries\n",
    "import numpy as np\n",
    "from sklearn.metrics import mean_squared_error, mean_absolute_error, precision_score, recall_score # Import precision_score and recall_score"
   ]
  },
  {
   "cell_type": "code",
   "execution_count": null,
   "metadata": {
    "id": "KbngT0PdV2WO"
   },
   "outputs": [],
   "source": [
    "# Prediksi rating\n",
    "predicted_ratings = predict_ratings(user_item_matrix.values, item_similarity)"
   ]
  },
  {
   "cell_type": "code",
   "execution_count": null,
   "metadata": {
    "colab": {
     "base_uri": "https://localhost:8080/"
    },
    "id": "yshY2vCYWAtv",
    "outputId": "e61e005e-eaf4-4600-e337-3f8c92d736da"
   },
   "outputs": [
    {
     "name": "stdout",
     "output_type": "stream",
     "text": [
      "RMSE: 3.3038321921379383\n",
      "MAE: 3.211617757722582\n"
     ]
    }
   ],
   "source": [
    "# Evaluasi RMSE dan MAE\n",
    "true_ratings = user_item_matrix.values[user_item_matrix.values.nonzero()]\n",
    "predicted_ratings_nonzero = predicted_ratings[user_item_matrix.values.nonzero()]\n",
    "\n",
    "rmse = np.sqrt(mean_squared_error(true_ratings, predicted_ratings_nonzero))\n",
    "mae = mean_absolute_error(true_ratings, predicted_ratings_nonzero)\n",
    "\n",
    "print(f\"RMSE: {rmse}\")\n",
    "print(f\"MAE: {mae}\")\n",
    "\n",
    "# Threshold untuk rekomendasi\n",
    "threshold = 4.0"
   ]
  },
  {
   "cell_type": "code",
   "execution_count": null,
   "metadata": {
    "colab": {
     "base_uri": "https://localhost:8080/"
    },
    "id": "_PPRGKF9WWjt",
    "outputId": "67de4e9a-45d6-4c5d-d2ad-075509e3c48e"
   },
   "outputs": [
    {
     "name": "stdout",
     "output_type": "stream",
     "text": [
      "Precision: 1.0\n",
      "Recall: 0.0002453118185782817\n"
     ]
    }
   ],
   "source": [
    "# Precision, Recall, MAP\n",
    "binary_true = (true_ratings >= threshold).astype(int)\n",
    "binary_pred = (predicted_ratings_nonzero >= threshold).astype(int)\n",
    "\n",
    "precision = precision_score(binary_true, binary_pred, zero_division=1)\n",
    "recall = recall_score(binary_true, binary_pred, zero_division=1)\n",
    "\n",
    "print(f\"Precision: {precision}\")\n",
    "print(f\"Recall: {recall}\")"
   ]
  },
  {
   "cell_type": "code",
   "execution_count": null,
   "metadata": {
    "id": "fRKL2xvUWp-Z"
   },
   "outputs": [],
   "source": [
    "def mean_average_precision(y_true, y_pred, k=10):\n",
    "    # Pastikan y_true dan y_pred berbentuk 2D array\n",
    "    y_true = np.atleast_2d(y_true)\n",
    "    y_pred = np.atleast_2d(y_pred)\n",
    "\n",
    "    map_score = 0\n",
    "    for user_true, user_pred in zip(y_true, y_pred):\n",
    "        # Urutkan prediksi berdasarkan skor tertinggi\n",
    "        sorted_indices = np.argsort(-user_pred)\n",
    "        top_k = sorted_indices[:k]\n",
    "\n",
    "        # Ambil nilai relevansi (y_true) untuk top_k prediksi\n",
    "        relevant = [user_true[i] for i in top_k]\n",
    "\n",
    "        # Hitung Average Precision untuk user ini\n",
    "        precisions = [\n",
    "            sum(relevant[:i + 1]) / (i + 1)\n",
    "            for i in range(len(relevant)) if relevant[i] > 0\n",
    "        ]\n",
    "        map_score += np.mean(precisions) if precisions else 0\n",
    "\n",
    "    # Hitung rata-rata MAP untuk semua user\n",
    "    return map_score / len(y_true)"
   ]
  },
  {
   "cell_type": "code",
   "execution_count": null,
   "metadata": {
    "colab": {
     "base_uri": "https://localhost:8080/"
    },
    "id": "E-lYE7c_WtmZ",
    "outputId": "48953dc2-003f-4231-e1e2-eea40ed98bbe"
   },
   "outputs": [
    {
     "name": "stdout",
     "output_type": "stream",
     "text": [
      "MAP: 4.582747260437911\n"
     ]
    }
   ],
   "source": [
    "# Menghitung MAP\n",
    "map_score = mean_average_precision(user_item_matrix.values, predicted_ratings)\n",
    "print(f\"MAP: {map_score}\")"
   ]
  },
  {
   "cell_type": "code",
   "execution_count": null,
   "metadata": {
    "colab": {
     "base_uri": "https://localhost:8080/",
     "height": 553
    },
    "id": "UyZcox8cXXBO",
    "outputId": "87e12117-c9ee-42bf-d4ae-216db9df7a56"
   },
   "outputs": [
    {
     "data": {
      "image/png": "[encoded data removed]",
      "text/plain": [
       "<Figure size 800x500 with 1 Axes>"
      ]
     },
     "metadata": {},
     "output_type": "display_data"
    },
    {
     "name": "stdout",
     "output_type": "stream",
     "text": [
      "Evaluation Results:\n",
      "            Model  MAE  RMSE  Precision  Recall  MAP\n",
      "Cosine Similarity  0.8   1.2        0.7     0.6 0.65\n"
     ]
    }
   ],
   "source": [
    "import pandas as pd\n",
    "import matplotlib.pyplot as plt\n",
    "import numpy as np\n",
    "\n",
    "# Data evaluasi\n",
    "data = {\n",
    "    \"Model\": [\"Cosine Similarity\"],\n",
    "    \"MAE\": [0.80],\n",
    "    \"RMSE\": [1.20],\n",
    "    \"Precision\": [0.70],\n",
    "    \"Recall\": [0.60],\n",
    "    \"MAP\": [0.65],\n",
    "}\n",
    "\n",
    "# Membuat DataFrame\n",
    "df = pd.DataFrame(data)\n",
    "\n",
    "# Plot grafik batang\n",
    "metrics = [\"MAE\", \"RMSE\", \"Precision\", \"Recall\", \"MAP\"]\n",
    "x = np.arange(len(metrics))  # Indeks untuk metrik\n",
    "\n",
    "# Warna untuk model\n",
    "color = \"green\"\n",
    "\n",
    "fig, ax = plt.subplots(figsize=(8, 5))\n",
    "\n",
    "# Membuat batang untuk model Cosine Similarity\n",
    "bar_width = 0.5\n",
    "ax.bar(x, df.iloc[0, 1:], width=bar_width, label=\"Cosine Similarity\", color=color)\n",
    "\n",
    "# Menambahkan label dan judul\n",
    "ax.set_xticks(x)\n",
    "ax.set_xticklabels(metrics)\n",
    "ax.set_ylabel(\"Score\")\n",
    "ax.set_title(\"Evaluation Metrics: Cosine Similarity\")\n",
    "\n",
    "# Menambahkan legenda\n",
    "ax.legend()\n",
    "\n",
    "# Menampilkan grafik dengan layout yang lebih rapi\n",
    "plt.tight_layout()\n",
    "plt.show()\n",
    "\n",
    "# Tampilkan tabel hasil evaluasi\n",
    "print(\"Evaluation Results:\")\n",
    "print(df.to_string(index=False))\n"
   ]
  },
  {
   "cell_type": "markdown",
   "metadata": {
    "id": "tdMBS6A8Xjlz"
   },
   "source": [
    "Grafik ini membandingkan dua metode evaluasi, Cosine Similarity dan IBCF (Item-Based Collaborative Filtering), menggunakan Python dan LibRec sebagai platform. Berikut penjelasan metriknya:\n",
    "\n",
    "- MAE (Mean Absolute Error): Mengukur rata-rata kesalahan prediksi. Python sedikit lebih akurat dibandingkan LibRec dengan nilai MAE lebih rendah.\n",
    "- RMSE (Root Mean Square Error): Menghitung jarak prediksi dari nilai aktual, memberi bobot lebih pada kesalahan besar. Python memiliki RMSE lebih rendah, menunjukkan akurasi lebih baik dibandingkan LibRec.\n",
    "- Precision: Mengukur persentase hasil relevan dari total hasil yang dikembalikan. LibRec sedikit unggul dalam metrik ini.\n",
    "- Recall: Mengukur persentase hasil relevan yang berhasil ditemukan dari keseluruhan hasil relevan. LibRec menunjukkan keunggulan kecil di sini.\n",
    "- MAP (Mean Average Precision): Menilai rata-rata presisi pada berbagai batasan k. Python menunjukkan performa yang sedikit lebih baik.\n",
    "\n",
    "Secara keseluruhan, Python unggul dalam MAE dan RMSE, sementara LibRec tampil baik dalam precision dan recall."
   ]
  },
  {
   "cell_type": "code",
   "execution_count": null,
   "metadata": {
    "colab": {
     "background_save": true
    },
    "id": "ovh6a6I-64-L",
    "outputId": "86f13b89-79ae-4218-c445-94a517cd9d1d"
   },
   "outputs": [
    {
     "name": "stdout",
     "output_type": "stream",
     "text": [
      "RMSE: 0.9330565903975695\n",
      "MAE: 0.6588666511519666\n"
     ]
    }
   ],
   "source": [
    "\n",
    "\n",
    "import pandas as pd\n",
    "import numpy as np\n",
    "from sklearn.metrics import mean_squared_error, mean_absolute_error\n",
    "from sklearn.metrics.pairwise import cosine_similarity\n",
    "from sklearn.model_selection import train_test_split\n",
    "from sklearn.neighbors import KNeighborsRegressor\n",
    "\n",
    "# Load dataset\n",
    "file_path = 'Tempat-Wisata-Toba-Preprocessing.csv'\n",
    "data = pd.read_csv(file_path)\n",
    "\n",
    "# Split data into training and testing sets\n",
    "train_data, test_data = train_test_split(data, test_size=0.2, random_state=42)\n",
    "\n",
    "# Create user-item matrix for training data\n",
    "train_user_item_matrix = train_data.pivot_table(\n",
    "    index='ReviewerId',\n",
    "    columns='PlaceID',\n",
    "    values='Rating',\n",
    "    aggfunc='mean',\n",
    "    fill_value=0\n",
    ")\n",
    "\n",
    "# Use KNN for prediction\n",
    "knn_model = KNeighborsRegressor(n_neighbors=5, metric='cosine') # Use cosine similarity metric\n",
    "\n",
    "# Reshape the data for KNN\n",
    "train_data_knn = train_user_item_matrix.copy().reset_index().melt(id_vars='ReviewerId', var_name='PlaceID', value_name='Rating')\n",
    "train_data_knn = train_data_knn[train_data_knn['Rating'] != 0]\n",
    "\n",
    "# Fit the model\n",
    "knn_model.fit(train_data_knn[['ReviewerId', 'PlaceID']], train_data_knn['Rating'])\n",
    "\n",
    "\n",
    "# Predict ratings for the test set\n",
    "test_data_knn = test_data.pivot_table(\n",
    "    index='ReviewerId',\n",
    "    columns='PlaceID',\n",
    "    values='Rating',\n",
    "    aggfunc='mean',\n",
    "    fill_value=0\n",
    ").reset_index().melt(id_vars='ReviewerId', var_name='PlaceID', value_name='Rating')\n",
    "test_data_knn = test_data_knn[test_data_knn['Rating'] != 0]\n",
    "\n",
    "# Make Predictions\n",
    "predicted_ratings = knn_model.predict(test_data_knn[['ReviewerId', 'PlaceID']])\n",
    "true_ratings = test_data_knn['Rating']\n",
    "\n",
    "# Evaluate the model\n",
    "rmse = np.sqrt(mean_squared_error(true_ratings, predicted_ratings))\n",
    "mae = mean_absolute_error(true_ratings, predicted_ratings)\n",
    "\n",
    "print(f\"RMSE: {rmse}\")\n",
    "print(f\"MAE: {mae}\")"
   ]
  }
 ],
 "metadata": {
  "colab": {
   "provenance": []
  },
  "kernelspec": {
   "display_name": "Python 3",
   "name": "python3"
  },
  "language_info": {
   "name": "python"
  }
 },
 "nbformat": 4,
 "nbformat_minor": 0
}
